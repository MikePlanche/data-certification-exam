{
 "cells": [
  {
   "cell_type": "markdown",
   "metadata": {
    "id": "WCk2YEqBhdP2"
   },
   "source": [
    "# Face Detection Challenge"
   ]
  },
  {
   "cell_type": "code",
   "execution_count": 2,
   "metadata": {
    "executionInfo": {
     "elapsed": 3224,
     "status": "ok",
     "timestamp": 1615229786391,
     "user": {
      "displayName": "Bruno Lajoie",
      "photoUrl": "https://lh3.googleusercontent.com/a-/AOh14Gg0dl6gThG8gOPbCvHbgt62zQnsi8cgbQ7C5HkD_Cg=s64",
      "userId": "15793030209206844069"
     },
     "user_tz": -60
    },
    "id": "ZH4sxIwVqhAV"
   },
   "outputs": [],
   "source": [
    "import numpy as np \n",
    "import pandas as pd"
   ]
  },
  {
   "cell_type": "markdown",
   "metadata": {
    "id": "JBXc4442fJZV"
   },
   "source": [
    "### Objectives\n",
    "-  visualize images\n",
    "-  preprocess images for Neural Networks\n",
    "-  fit a custom CNN for a regression task\n",
    "-  fine-tune a analyse model performance"
   ]
  },
  {
   "cell_type": "markdown",
   "metadata": {
    "id": "gv76LFXjqzau"
   },
   "source": [
    "## 1. Visualize images"
   ]
  },
  {
   "cell_type": "markdown",
   "metadata": {},
   "source": [
    "👉 Load the dataset (200 Mo)"
   ]
  },
  {
   "cell_type": "code",
   "execution_count": 3,
   "metadata": {
    "executionInfo": {
     "elapsed": 10102,
     "status": "ok",
     "timestamp": 1615229794824,
     "user": {
      "displayName": "Bruno Lajoie",
      "photoUrl": "https://lh3.googleusercontent.com/a-/AOh14Gg0dl6gThG8gOPbCvHbgt62zQnsi8cgbQ7C5HkD_Cg=s64",
      "userId": "15793030209206844069"
     },
     "user_tz": -60
    },
    "id": "2tZUrTCepyPs"
   },
   "outputs": [
    {
     "data": {
      "text/html": [
       "<div>\n",
       "<style scoped>\n",
       "    .dataframe tbody tr th:only-of-type {\n",
       "        vertical-align: middle;\n",
       "    }\n",
       "\n",
       "    .dataframe tbody tr th {\n",
       "        vertical-align: top;\n",
       "    }\n",
       "\n",
       "    .dataframe thead th {\n",
       "        text-align: right;\n",
       "    }\n",
       "</style>\n",
       "<table border=\"1\" class=\"dataframe\">\n",
       "  <thead>\n",
       "    <tr style=\"text-align: right;\">\n",
       "      <th></th>\n",
       "      <th>age</th>\n",
       "      <th>pixels</th>\n",
       "    </tr>\n",
       "  </thead>\n",
       "  <tbody>\n",
       "    <tr>\n",
       "      <th>0</th>\n",
       "      <td>1</td>\n",
       "      <td>129 128 128 126 127 130 133 135 139 142 145 14...</td>\n",
       "    </tr>\n",
       "    <tr>\n",
       "      <th>1</th>\n",
       "      <td>1</td>\n",
       "      <td>164 74 111 168 169 171 175 182 184 188 193 199...</td>\n",
       "    </tr>\n",
       "    <tr>\n",
       "      <th>2</th>\n",
       "      <td>1</td>\n",
       "      <td>67 70 71 70 69 67 70 79 90 103 116 132 145 155...</td>\n",
       "    </tr>\n",
       "    <tr>\n",
       "      <th>3</th>\n",
       "      <td>1</td>\n",
       "      <td>193 197 198 200 199 200 202 203 204 205 208 21...</td>\n",
       "    </tr>\n",
       "    <tr>\n",
       "      <th>4</th>\n",
       "      <td>1</td>\n",
       "      <td>202 205 209 210 209 209 210 211 212 214 218 21...</td>\n",
       "    </tr>\n",
       "    <tr>\n",
       "      <th>...</th>\n",
       "      <td>...</td>\n",
       "      <td>...</td>\n",
       "    </tr>\n",
       "    <tr>\n",
       "      <th>23700</th>\n",
       "      <td>99</td>\n",
       "      <td>127 100 94 81 77 77 74 99 102 98 128 145 160 1...</td>\n",
       "    </tr>\n",
       "    <tr>\n",
       "      <th>23701</th>\n",
       "      <td>99</td>\n",
       "      <td>23 28 32 35 42 47 68 85 98 103 113 117 130 129...</td>\n",
       "    </tr>\n",
       "    <tr>\n",
       "      <th>23702</th>\n",
       "      <td>99</td>\n",
       "      <td>59 50 37 40 34 19 30 101 156 170 177 184 187 1...</td>\n",
       "    </tr>\n",
       "    <tr>\n",
       "      <th>23703</th>\n",
       "      <td>99</td>\n",
       "      <td>45 108 120 156 206 197 140 180 191 199 204 207...</td>\n",
       "    </tr>\n",
       "    <tr>\n",
       "      <th>23704</th>\n",
       "      <td>99</td>\n",
       "      <td>156 161 160 165 170 173 166 177 183 191 187 18...</td>\n",
       "    </tr>\n",
       "  </tbody>\n",
       "</table>\n",
       "<p>23705 rows × 2 columns</p>\n",
       "</div>"
      ],
      "text/plain": [
       "       age                                             pixels\n",
       "0        1  129 128 128 126 127 130 133 135 139 142 145 14...\n",
       "1        1  164 74 111 168 169 171 175 182 184 188 193 199...\n",
       "2        1  67 70 71 70 69 67 70 79 90 103 116 132 145 155...\n",
       "3        1  193 197 198 200 199 200 202 203 204 205 208 21...\n",
       "4        1  202 205 209 210 209 209 210 211 212 214 218 21...\n",
       "...    ...                                                ...\n",
       "23700   99  127 100 94 81 77 77 74 99 102 98 128 145 160 1...\n",
       "23701   99  23 28 32 35 42 47 68 85 98 103 113 117 130 129...\n",
       "23702   99  59 50 37 40 34 19 30 101 156 170 177 184 187 1...\n",
       "23703   99  45 108 120 156 206 197 140 180 191 199 204 207...\n",
       "23704   99  156 161 160 165 170 173 166 177 183 191 187 18...\n",
       "\n",
       "[23705 rows x 2 columns]"
      ]
     },
     "execution_count": 3,
     "metadata": {},
     "output_type": "execute_result"
    }
   ],
   "source": [
    "data = pd.read_csv(\"https://wagon-public-datasets.s3.amazonaws.com/certification_paris_2021Q1/images.csv\")\n",
    "data"
   ]
  },
  {
   "cell_type": "markdown",
   "metadata": {
    "ExecuteTime": {
     "end_time": "2021-03-12T10:04:13.153735Z",
     "start_time": "2021-03-12T10:04:13.148224Z"
    }
   },
   "source": [
    "Each row represent the image of a face in black and white\n",
    "- `age` is the age in year\n",
    "- `pixels` contains the 2304 (= 48 * 48) flatten values of each pixel in the image, in a black scale from 0 to 255, stored as string"
   ]
  },
  {
   "cell_type": "markdown",
   "metadata": {},
   "source": [
    "❓ Plot the histogram of age in your dataset"
   ]
  },
  {
   "cell_type": "code",
   "execution_count": 4,
   "metadata": {},
   "outputs": [],
   "source": [
    "data_orig=data.copy()"
   ]
  },
  {
   "cell_type": "code",
   "execution_count": 5,
   "metadata": {},
   "outputs": [
    {
     "data": {
      "image/png": "[encoded data removed]",
      "text/plain": [
       "<Figure size 432x288 with 1 Axes>"
      ]
     },
     "metadata": {
      "needs_background": "light"
     },
     "output_type": "display_data"
    }
   ],
   "source": [
    "### TODO\n",
    "import matplotlib.pyplot as plt\n",
    "plt.hist(data.age,bins=25)\n",
    "plt.show()"
   ]
  },
  {
   "cell_type": "markdown",
   "metadata": {
    "id": "JQ1ew-IAwUNL"
   },
   "source": [
    "❓ Visually display one image of your choice."
   ]
  },
  {
   "cell_type": "code",
   "execution_count": 6,
   "metadata": {},
   "outputs": [],
   "source": [
    "### TODO\n",
    "def print_image(index,serie=data.pixels):\n",
    "    image=serie[index].split()\n",
    "\n",
    "    for i in range(len(image)):\n",
    "        image[i]=int(image[i])\n",
    "\n",
    "    image_resized=np.resize(image,(48,48))\n",
    "\n",
    "\n",
    "    plt.imshow(image_resized,cmap='gray')\n",
    "    pass"
   ]
  },
  {
   "cell_type": "code",
   "execution_count": 7,
   "metadata": {},
   "outputs": [
    {
     "data": {
      "image/png": "[encoded data removed]",
      "text/plain": [
       "<Figure size 432x288 with 1 Axes>"
      ]
     },
     "metadata": {
      "needs_background": "light"
     },
     "output_type": "display_data"
    }
   ],
   "source": [
    "print_image(10000)"
   ]
  },
  {
   "cell_type": "markdown",
   "metadata": {},
   "source": [
    "❓ What is the physical characteristic of the image at **index** `10000`?"
   ]
  },
  {
   "cell_type": "code",
   "execution_count": 8,
   "metadata": {},
   "outputs": [],
   "source": [
    "# Store your result in the variable below\n",
    "\n",
    "gender = \"male\"\n",
    "# gender = \"female\"\n",
    "\n",
    "# smile = True\n",
    "smile = False"
   ]
  },
  {
   "cell_type": "code",
   "execution_count": 9,
   "metadata": {},
   "outputs": [],
   "source": [
    "from nbresult import ChallengeResult\n",
    "result = ChallengeResult('C14',\n",
    "                         gender=gender,\n",
    "                         smile=smile)\n",
    "result.write()"
   ]
  },
  {
   "cell_type": "markdown",
   "metadata": {
    "id": "AjeMU0GTwFSe"
   },
   "source": [
    "## 2. Processing"
   ]
  },
  {
   "cell_type": "markdown",
   "metadata": {},
   "source": [
    "❓ Your goal is to train a convolutional neural network model to predict the age of a person based solely on a picture of his/her face.\n",
    "- Create your feature matrix `X` as nparray of shape suited for a CNN, scaled between 0 and 1\n",
    "- Create your target vector `y`\n",
    "- Create a holdout set (`X_train`, `y_train`) (`X_test`, `y_test`) keeping `30%` in the test set, randomly sampled out of the whole dataset\n",
    "\n",
    "😌 Don't worry, you will be given the solution in the next question in case you don't make it"
   ]
  },
  {
   "cell_type": "code",
   "execution_count": null,
   "metadata": {},
   "outputs": [],
   "source": [
    "from tensorflow.keras.backend import expand_dims"
   ]
  },
  {
   "cell_type": "code",
   "execution_count": 10,
   "metadata": {},
   "outputs": [],
   "source": [
    "#creating another colum to work with so if I mess up data.pixels I don't have to reload entore df which takes time\n",
    "data['pix']=data.pixels"
   ]
  },
  {
   "cell_type": "code",
   "execution_count": 12,
   "metadata": {},
   "outputs": [],
   "source": [
    "### modifying column pixels\n",
    "def create_array_scaled(index):\n",
    "    image=index.split()\n",
    "\n",
    "    for i in range(len(image)):\n",
    "        image[i]=int(image[i])/255\n",
    "\n",
    "    return np.resize(image,(48,48))\n"
   ]
  },
  {
   "cell_type": "code",
   "execution_count": 13,
   "metadata": {},
   "outputs": [],
   "source": [
    "### applying function\n",
    "data.pix=data.pix.apply(lambda x: create_array_scaled(x))"
   ]
  },
  {
   "cell_type": "code",
   "execution_count": 113,
   "metadata": {},
   "outputs": [],
   "source": [
    "#creating X, working directly with df was giving me an issue\n",
    "X=[]\n",
    "for i in range(len(data.pix)):\n",
    "    X.append(data.pix[i])\n",
    "\n",
    "#X changing shape accordingly\n",
    "X=np.reshape(X,(23705,48,48))\n",
    "\n",
    "#adding dimension for CNN\n",
    "X=np.expand_dims(X,axis=3)\n",
    "\n"
   ]
  },
  {
   "cell_type": "code",
   "execution_count": 114,
   "metadata": {},
   "outputs": [],
   "source": [
    "#creating y\n",
    "y=data.age.tolist() # to drop the pd index \n",
    "y=np.asarray(y)"
   ]
  },
  {
   "cell_type": "code",
   "execution_count": 115,
   "metadata": {},
   "outputs": [],
   "source": [
    "#plitting data\n",
    "from sklearn.model_selection import train_test_split"
   ]
  },
  {
   "cell_type": "code",
   "execution_count": 116,
   "metadata": {},
   "outputs": [],
   "source": [
    "X_train, X_test, y_train, y_test = train_test_split(X, y, test_size=0.30)"
   ]
  },
  {
   "cell_type": "code",
   "execution_count": 117,
   "metadata": {},
   "outputs": [
    {
     "data": {
      "text/plain": [
       "array([[[[0.10196078],\n",
       "         [0.07843137],\n",
       "         [0.09411765],\n",
       "         ...,\n",
       "         [0.10588235],\n",
       "         [0.09019608],\n",
       "         [0.09411765]],\n",
       "\n",
       "        [[0.1372549 ],\n",
       "         [0.0745098 ],\n",
       "         [0.08627451],\n",
       "         ...,\n",
       "         [0.10588235],\n",
       "         [0.09803922],\n",
       "         [0.09019608]],\n",
       "\n",
       "        [[0.15686275],\n",
       "         [0.08627451],\n",
       "         [0.07843137],\n",
       "         ...,\n",
       "         [0.09803922],\n",
       "         [0.09803922],\n",
       "         [0.08627451]],\n",
       "\n",
       "        ...,\n",
       "\n",
       "        [[0.85882353],\n",
       "         [0.89803922],\n",
       "         [0.89411765],\n",
       "         ...,\n",
       "         [0.28627451],\n",
       "         [0.28627451],\n",
       "         [0.29019608]],\n",
       "\n",
       "        [[0.84705882],\n",
       "         [0.90196078],\n",
       "         [0.89019608],\n",
       "         ...,\n",
       "         [0.2745098 ],\n",
       "         [0.27843137],\n",
       "         [0.28235294]],\n",
       "\n",
       "        [[0.85490196],\n",
       "         [0.91764706],\n",
       "         [0.91372549],\n",
       "         ...,\n",
       "         [0.25882353],\n",
       "         [0.25882353],\n",
       "         [0.2745098 ]]],\n",
       "\n",
       "\n",
       "       [[[0.32941176],\n",
       "         [0.24705882],\n",
       "         [0.32156863],\n",
       "         ...,\n",
       "         [0.47058824],\n",
       "         [0.47058824],\n",
       "         [0.45098039]],\n",
       "\n",
       "        [[0.3372549 ],\n",
       "         [0.27058824],\n",
       "         [0.34117647],\n",
       "         ...,\n",
       "         [0.45882353],\n",
       "         [0.44705882],\n",
       "         [0.43921569]],\n",
       "\n",
       "        [[0.34117647],\n",
       "         [0.29019608],\n",
       "         [0.34509804],\n",
       "         ...,\n",
       "         [0.50980392],\n",
       "         [0.49411765],\n",
       "         [0.48627451]],\n",
       "\n",
       "        ...,\n",
       "\n",
       "        [[0.54901961],\n",
       "         [0.52941176],\n",
       "         [0.52941176],\n",
       "         ...,\n",
       "         [0.43529412],\n",
       "         [0.36862745],\n",
       "         [0.39607843]],\n",
       "\n",
       "        [[0.58431373],\n",
       "         [0.58039216],\n",
       "         [0.56862745],\n",
       "         ...,\n",
       "         [0.21568627],\n",
       "         [0.1372549 ],\n",
       "         [0.17254902]],\n",
       "\n",
       "        [[0.56470588],\n",
       "         [0.57647059],\n",
       "         [0.57254902],\n",
       "         ...,\n",
       "         [0.22352941],\n",
       "         [0.10196078],\n",
       "         [0.08235294]]],\n",
       "\n",
       "\n",
       "       [[[0.16862745],\n",
       "         [0.19607843],\n",
       "         [0.2745098 ],\n",
       "         ...,\n",
       "         [0.83137255],\n",
       "         [0.83529412],\n",
       "         [0.82745098]],\n",
       "\n",
       "        [[0.18823529],\n",
       "         [0.25098039],\n",
       "         [0.31372549],\n",
       "         ...,\n",
       "         [0.82745098],\n",
       "         [0.82745098],\n",
       "         [0.81960784]],\n",
       "\n",
       "        [[0.21960784],\n",
       "         [0.29019608],\n",
       "         [0.34117647],\n",
       "         ...,\n",
       "         [0.82745098],\n",
       "         [0.83137255],\n",
       "         [0.81568627]],\n",
       "\n",
       "        ...,\n",
       "\n",
       "        [[0.17647059],\n",
       "         [0.36470588],\n",
       "         [0.48235294],\n",
       "         ...,\n",
       "         [0.81568627],\n",
       "         [0.81960784],\n",
       "         [0.81176471]],\n",
       "\n",
       "        [[0.18039216],\n",
       "         [0.3372549 ],\n",
       "         [0.45490196],\n",
       "         ...,\n",
       "         [0.81176471],\n",
       "         [0.81176471],\n",
       "         [0.80392157]],\n",
       "\n",
       "        [[0.19215686],\n",
       "         [0.31372549],\n",
       "         [0.43137255],\n",
       "         ...,\n",
       "         [0.81176471],\n",
       "         [0.81176471],\n",
       "         [0.80392157]]],\n",
       "\n",
       "\n",
       "       ...,\n",
       "\n",
       "\n",
       "       [[[0.2       ],\n",
       "         [0.16470588],\n",
       "         [0.16470588],\n",
       "         ...,\n",
       "         [0.15686275],\n",
       "         [0.14509804],\n",
       "         [0.15686275]],\n",
       "\n",
       "        [[0.2       ],\n",
       "         [0.16470588],\n",
       "         [0.16470588],\n",
       "         ...,\n",
       "         [0.14509804],\n",
       "         [0.14117647],\n",
       "         [0.16862745]],\n",
       "\n",
       "        [[0.21176471],\n",
       "         [0.17254902],\n",
       "         [0.16862745],\n",
       "         ...,\n",
       "         [0.15686275],\n",
       "         [0.15294118],\n",
       "         [0.17647059]],\n",
       "\n",
       "        ...,\n",
       "\n",
       "        [[0.2       ],\n",
       "         [0.19215686],\n",
       "         [0.2       ],\n",
       "         ...,\n",
       "         [0.13333333],\n",
       "         [0.12156863],\n",
       "         [0.1254902 ]],\n",
       "\n",
       "        [[0.22745098],\n",
       "         [0.21960784],\n",
       "         [0.18039216],\n",
       "         ...,\n",
       "         [0.12941176],\n",
       "         [0.13333333],\n",
       "         [0.12941176]],\n",
       "\n",
       "        [[0.23529412],\n",
       "         [0.21568627],\n",
       "         [0.18431373],\n",
       "         ...,\n",
       "         [0.10196078],\n",
       "         [0.10980392],\n",
       "         [0.12156863]]],\n",
       "\n",
       "\n",
       "       [[[0.05098039],\n",
       "         [0.04705882],\n",
       "         [0.0627451 ],\n",
       "         ...,\n",
       "         [0.10196078],\n",
       "         [0.1372549 ],\n",
       "         [0.14901961]],\n",
       "\n",
       "        [[0.04705882],\n",
       "         [0.04313725],\n",
       "         [0.05490196],\n",
       "         ...,\n",
       "         [0.10196078],\n",
       "         [0.1254902 ],\n",
       "         [0.1254902 ]],\n",
       "\n",
       "        [[0.04313725],\n",
       "         [0.03921569],\n",
       "         [0.05490196],\n",
       "         ...,\n",
       "         [0.08627451],\n",
       "         [0.09411765],\n",
       "         [0.12941176]],\n",
       "\n",
       "        ...,\n",
       "\n",
       "        [[0.52941176],\n",
       "         [0.49411765],\n",
       "         [0.61960784],\n",
       "         ...,\n",
       "         [0.76470588],\n",
       "         [0.80392157],\n",
       "         [0.26666667]],\n",
       "\n",
       "        [[0.67058824],\n",
       "         [0.65882353],\n",
       "         [0.67843137],\n",
       "         ...,\n",
       "         [0.75686275],\n",
       "         [0.90196078],\n",
       "         [0.90588235]],\n",
       "\n",
       "        [[0.67058824],\n",
       "         [0.63921569],\n",
       "         [0.65882353],\n",
       "         ...,\n",
       "         [0.69019608],\n",
       "         [0.8745098 ],\n",
       "         [0.88235294]]],\n",
       "\n",
       "\n",
       "       [[[0.50980392],\n",
       "         [0.50980392],\n",
       "         [0.53333333],\n",
       "         ...,\n",
       "         [0.84313725],\n",
       "         [0.81568627],\n",
       "         [0.83921569]],\n",
       "\n",
       "        [[0.50588235],\n",
       "         [0.51764706],\n",
       "         [0.54117647],\n",
       "         ...,\n",
       "         [0.83921569],\n",
       "         [0.81960784],\n",
       "         [0.81568627]],\n",
       "\n",
       "        [[0.50588235],\n",
       "         [0.51764706],\n",
       "         [0.56470588],\n",
       "         ...,\n",
       "         [0.82745098],\n",
       "         [0.80784314],\n",
       "         [0.79607843]],\n",
       "\n",
       "        ...,\n",
       "\n",
       "        [[0.21568627],\n",
       "         [0.22352941],\n",
       "         [0.22745098],\n",
       "         ...,\n",
       "         [0.22352941],\n",
       "         [0.14509804],\n",
       "         [0.20784314]],\n",
       "\n",
       "        [[0.20392157],\n",
       "         [0.21568627],\n",
       "         [0.22745098],\n",
       "         ...,\n",
       "         [0.49803922],\n",
       "         [0.14117647],\n",
       "         [0.19607843]],\n",
       "\n",
       "        [[0.20784314],\n",
       "         [0.21960784],\n",
       "         [0.23137255],\n",
       "         ...,\n",
       "         [0.59607843],\n",
       "         [0.1372549 ],\n",
       "         [0.15294118]]]])"
      ]
     },
     "execution_count": 117,
     "metadata": {},
     "output_type": "execute_result"
    }
   ],
   "source": [
    "X_train"
   ]
  },
  {
   "cell_type": "code",
   "execution_count": 118,
   "metadata": {},
   "outputs": [],
   "source": [
    "from nbresult import ChallengeResult\n",
    "result = ChallengeResult('C1415', \n",
    "                         X_train_shape = X_train.shape,\n",
    "                         y_train_shape = y_train.shape,\n",
    "                         first_image = X_train[0]\n",
    "                        )\n",
    "result.write()"
   ]
  },
  {
   "cell_type": "markdown",
   "metadata": {
    "id": "3bSHDYC8OlrL"
   },
   "source": [
    "## Convolutional Neural Network for Age prediction"
   ]
  },
  {
   "cell_type": "markdown",
   "metadata": {},
   "source": [
    "❓ Build a convolutional neural network\n",
    "\n",
    "- Do not use transfer learning\n",
    "- Store number of trainable parameters in a variable `params_number`\n",
    "- Plot your metric & loss at each epoch\n",
    "- make sure your model does not overfit with appropriate control techniques\n",
    "- Compute the mean absolute error on your test set and store it as `mae_test`\n",
    "- Compute, store and compare it with a `mae_baseline`\n",
    "\n",
    "💡 You will not be judged by the computing power of your computer, but you should obtain significantly better performance than the baseline in less than 3 minutes, even without GPUs"
   ]
  },
  {
   "cell_type": "markdown",
   "metadata": {},
   "source": [
    "👉 Feel free to start back from the solution by running the cell below (~500Mo download)"
   ]
  },
  {
   "cell_type": "code",
   "execution_count": 107,
   "metadata": {},
   "outputs": [
    {
     "name": "stdout",
     "output_type": "stream",
     "text": [
      "  % Total    % Received % Xferd  Average Speed   Time    Time     Time  Current\n",
      "                                 Dload  Upload   Total   Spent    Left  Speed\n",
      "100  291M  100  291M    0     0  23.5M      0  0:00:12  0:00:12 --:--:-- 23.4M\n",
      "  % Total    % Received % Xferd  Average Speed   Time    Time     Time  Current\n",
      "                                 Dload  Upload   Total   Spent    Left  Speed\n",
      "100  125M  100  125M    0     0  25.8M      0  0:00:04  0:00:04 --:--:-- 28.0M\n",
      "  % Total    % Received % Xferd  Average Speed   Time    Time     Time  Current\n",
      "                                 Dload  Upload   Total   Spent    Left  Speed\n",
      "100  129k  100  129k    0     0   371k      0 --:--:-- --:--:-- --:--:--  370k\n",
      "  % Total    % Received % Xferd  Average Speed   Time    Time     Time  Current\n",
      "                                 Dload  Upload   Total   Spent    Left  Speed\n",
      "100 57023  100 57023    0     0   236k      0 --:--:-- --:--:-- --:--:--  236k\n"
     ]
    }
   ],
   "source": [
    "import pickle\n",
    "\n",
    "file_names = [\"images_X_train.pickle\", \"images_X_test.pickle\", \"images_y_train.pickle\", \"images_y_test.pickle\"]\n",
    "pickles = dict()\n",
    "\n",
    "for file_name in file_names:\n",
    "    url = f\"https://wagon-public-datasets.s3.amazonaws.com/certification_paris_2021Q1/{file_name}\"\n",
    "    command = f\"curl --output {file_name} {url}\"\n",
    "    ! eval {command}\n",
    "    with open(file_name, 'rb') as handle:\n",
    "        pickles[file_name] = pickle.load(handle)\n",
    "    command = f\"rm {file_name}\"\n",
    "    ! eval {command}\n",
    "        \n",
    "X_train, X_test, y_train, y_test = pickles.values()"
   ]
  },
  {
   "cell_type": "code",
   "execution_count": 119,
   "metadata": {},
   "outputs": [],
   "source": [
    "from tensorflow.keras import layers\n",
    "from tensorflow.keras import models\n",
    "\n",
    "\n",
    "def initialize_model():\n",
    "    model = models.Sequential()\n",
    "    \n",
    "    ### First convolution & max-pooling\n",
    "    # YOUR CODE HERE   \n",
    "    \n",
    "    model.add(layers.Conv2D(8, kernel_size=(4, 4), activation='relu', input_shape=(48, 48, 1)))\n",
    "    model.add(layers.MaxPool2D(pool_size=(2,2)))\n",
    "     \n",
    "    ### Flattening\n",
    "    model.add(layers.Flatten())\n",
    "\n",
    "    ### One fully connected\n",
    "    model.add(layers.Dense(10, activation='relu'))\n",
    "    \n",
    "\n",
    "    ### Last layer (let's say a classification with 10 output for 10 digits)\n",
    "    model.add(layers.Dense(1, activation='linear'))\n",
    "    \n",
    "    ### Model compilation\n",
    "    model.compile(loss='mse', \n",
    "              optimizer='adam', \n",
    "              metrics=['mae'])\n",
    "    \n",
    "   \n",
    "    \n",
    "    model.summary() # Compare the number of parameters to the model with Dense layers\n",
    "    \n",
    "    return model"
   ]
  },
  {
   "cell_type": "code",
   "execution_count": 120,
   "metadata": {},
   "outputs": [
    {
     "name": "stdout",
     "output_type": "stream",
     "text": [
      "Model: \"sequential_9\"\n",
      "_________________________________________________________________\n",
      "Layer (type)                 Output Shape              Param #   \n",
      "=================================================================\n",
      "conv2d_10 (Conv2D)           (None, 45, 45, 8)         136       \n",
      "_________________________________________________________________\n",
      "max_pooling2d_10 (MaxPooling (None, 22, 22, 8)         0         \n",
      "_________________________________________________________________\n",
      "flatten_9 (Flatten)          (None, 3872)              0         \n",
      "_________________________________________________________________\n",
      "dense_19 (Dense)             (None, 10)                38730     \n",
      "_________________________________________________________________\n",
      "dense_20 (Dense)             (None, 1)                 11        \n",
      "=================================================================\n",
      "Total params: 38,877\n",
      "Trainable params: 38,877\n",
      "Non-trainable params: 0\n",
      "_________________________________________________________________\n"
     ]
    }
   ],
   "source": [
    "from tensorflow.keras.callbacks import EarlyStopping\n",
    "\n",
    "es=EarlyStopping(patience=5,restore_best_weights=True)\n",
    "\n",
    "model=initialize_model()"
   ]
  },
  {
   "cell_type": "code",
   "execution_count": null,
   "metadata": {},
   "outputs": [
    {
     "name": "stdout",
     "output_type": "stream",
     "text": [
      "Epoch 1/100\n",
      "726/726 [==============================] - 10s 13ms/step - loss: 524.9085 - mae: 17.6221 - val_loss: 330.7503 - val_mae: 13.5155\n",
      "Epoch 2/100\n",
      "726/726 [==============================] - 14s 19ms/step - loss: 303.4489 - mae: 13.4650 - val_loss: 260.7907 - val_mae: 12.6424\n",
      "Epoch 3/100\n",
      "726/726 [==============================] - 15s 21ms/step - loss: 254.1031 - mae: 12.3669 - val_loss: 231.8595 - val_mae: 11.5067\n",
      "Epoch 4/100\n",
      "726/726 [==============================] - 19s 26ms/step - loss: 223.9170 - mae: 11.5702 - val_loss: 205.4353 - val_mae: 11.0179\n",
      "Epoch 5/100\n",
      "726/726 [==============================] - 19s 26ms/step - loss: 202.0097 - mae: 10.9541 - val_loss: 192.8824 - val_mae: 10.6444\n",
      "Epoch 6/100\n",
      "726/726 [==============================] - 17s 23ms/step - loss: 196.2296 - mae: 10.7030 - val_loss: 208.3335 - val_mae: 11.2922\n",
      "Epoch 7/100\n",
      "726/726 [==============================] - 16s 23ms/step - loss: 181.4011 - mae: 10.2032 - val_loss: 170.7742 - val_mae: 9.8947\n",
      "Epoch 8/100\n",
      "726/726 [==============================] - 11s 15ms/step - loss: 172.5851 - mae: 9.8618 - val_loss: 177.4090 - val_mae: 10.3643\n",
      "Epoch 9/100\n",
      "726/726 [==============================] - 21s 29ms/step - loss: 167.4880 - mae: 9.7369 - val_loss: 162.8378 - val_mae: 9.2753\n",
      "Epoch 10/100\n",
      "726/726 [==============================] - 16s 22ms/step - loss: 160.5390 - mae: 9.4747 - val_loss: 154.6922 - val_mae: 9.2917\n",
      "Epoch 11/100\n",
      "726/726 [==============================] - 17s 23ms/step - loss: 150.9367 - mae: 9.1558 - val_loss: 150.8557 - val_mae: 9.1095\n",
      "Epoch 12/100\n",
      "726/726 [==============================] - 16s 23ms/step - loss: 150.2284 - mae: 9.1319 - val_loss: 174.9933 - val_mae: 10.3833\n",
      "Epoch 13/100\n",
      "726/726 [==============================] - 17s 24ms/step - loss: 145.8871 - mae: 8.9318 - val_loss: 145.5462 - val_mae: 8.8545\n",
      "Epoch 14/100\n",
      "726/726 [==============================] - 18s 25ms/step - loss: 142.0860 - mae: 8.9497 - val_loss: 144.1055 - val_mae: 8.8577\n",
      "Epoch 15/100\n",
      "726/726 [==============================] - 13s 18ms/step - loss: 138.6751 - mae: 8.7641 - val_loss: 141.8400 - val_mae: 8.8043\n",
      "Epoch 16/100\n",
      "726/726 [==============================] - 17s 23ms/step - loss: 134.3232 - mae: 8.6178 - val_loss: 141.3566 - val_mae: 8.6885\n",
      "Epoch 17/100\n",
      "726/726 [==============================] - 12s 17ms/step - loss: 131.7574 - mae: 8.5353 - val_loss: 138.4434 - val_mae: 8.6308\n",
      "Epoch 18/100\n",
      "726/726 [==============================] - 15s 20ms/step - loss: 134.9964 - mae: 8.5872 - val_loss: 137.7289 - val_mae: 8.5191\n",
      "Epoch 19/100\n",
      "726/726 [==============================] - 16s 22ms/step - loss: 126.1152 - mae: 8.3729 - val_loss: 146.7928 - val_mae: 9.0743\n",
      "Epoch 20/100\n",
      "726/726 [==============================] - 13s 18ms/step - loss: 133.1954 - mae: 8.5013 - val_loss: 137.1803 - val_mae: 8.6612\n",
      "Epoch 21/100\n",
      "726/726 [==============================] - 13s 18ms/step - loss: 125.2953 - mae: 8.2783 - val_loss: 136.7772 - val_mae: 8.4806\n",
      "Epoch 22/100\n",
      "726/726 [==============================] - 17s 23ms/step - loss: 125.1563 - mae: 8.2829 - val_loss: 145.8249 - val_mae: 9.1593\n",
      "Epoch 23/100\n",
      "726/726 [==============================] - 13s 17ms/step - loss: 124.1117 - mae: 8.2298 - val_loss: 133.4025 - val_mae: 8.4717\n",
      "Epoch 24/100\n",
      "528/726 [====================>.........] - ETA: 2s - loss: 117.6957 - mae: 8.0713"
     ]
    }
   ],
   "source": [
    "model.fit(X_train, y_train,\n",
    "          batch_size=16,\n",
    "          epochs=100,\n",
    "          validation_split=0.3,\n",
    "          callbacks=es)"
   ]
  },
  {
   "cell_type": "code",
   "execution_count": 35,
   "metadata": {},
   "outputs": [],
   "source": [
    "params_number=38_877"
   ]
  },
  {
   "cell_type": "code",
   "execution_count": 59,
   "metadata": {},
   "outputs": [],
   "source": [
    "y_mean=y_test.mean()\n",
    "\n",
    "sum=0\n",
    "for y in y_test:\n",
    "    sum+=(abs(y_mean-y))\n",
    "\n",
    "\n",
    "mae_baseline=sum/len(y_test)"
   ]
  },
  {
   "cell_type": "code",
   "execution_count": 33,
   "metadata": {},
   "outputs": [
    {
     "name": "stdout",
     "output_type": "stream",
     "text": [
      "[120.15907287597656, 7.982362747192383]\n"
     ]
    },
    {
     "data": {
      "text/plain": [
       "7.982362747192383"
      ]
     },
     "execution_count": 33,
     "metadata": {},
     "output_type": "execute_result"
    }
   ],
   "source": [
    "print(model.evaluate(X_test, y_test, verbose=0))"
   ]
  },
  {
   "cell_type": "code",
   "execution_count": 45,
   "metadata": {},
   "outputs": [],
   "source": [
    "mae_test=model.evaluate(X_test, y_test, verbose=0)[1]"
   ]
  },
  {
   "cell_type": "code",
   "execution_count": 46,
   "metadata": {},
   "outputs": [
    {
     "data": {
      "text/plain": [
       "7.982362747192383"
      ]
     },
     "execution_count": 46,
     "metadata": {},
     "output_type": "execute_result"
    }
   ],
   "source": [
    "mae_test"
   ]
  },
  {
   "cell_type": "code",
   "execution_count": 60,
   "metadata": {},
   "outputs": [],
   "source": [
    "from nbresult import ChallengeResult\n",
    "result = ChallengeResult('C1516',\n",
    "                         params_number=params_number,\n",
    "                         mae_baseline = mae_baseline,\n",
    "                         mae_test = mae_test,\n",
    "                        )\n",
    "result.write()"
   ]
  },
  {
   "cell_type": "code",
   "execution_count": null,
   "metadata": {},
   "outputs": [],
   "source": []
  }
 ],
 "metadata": {
  "accelerator": "GPU",
  "colab": {
   "authorship_tag": "ABX9TyMOYn4GJAg9EKtu1bGhcoI1",
   "collapsed_sections": [],
   "name": "certification_DL_images",
   "provenance": [],
   "toc_visible": true
  },
  "hide_input": false,
  "kernelspec": {
   "display_name": "Python 3",
   "language": "python",
   "name": "python3"
  },
  "language_info": {
   "codemirror_mode": {
    "name": "ipython",
    "version": 3
   },
   "file_extension": ".py",
   "mimetype": "text/x-python",
   "name": "python",
   "nbconvert_exporter": "python",
   "pygments_lexer": "ipython3",
   "version": "3.8.6"
  },
  "toc": {
   "base_numbering": 1,
   "nav_menu": {},
   "number_sections": false,
   "sideBar": true,
   "skip_h1_title": false,
   "title_cell": "Table of Contents",
   "title_sidebar": "Contents",
   "toc_cell": false,
   "toc_position": {},
   "toc_section_display": true,
   "toc_window_display": true
  },
  "varInspector": {
   "cols": {
    "lenName": 16,
    "lenType": 16,
    "lenVar": 40
   },
   "kernels_config": {
    "python": {
     "delete_cmd_postfix": "",
     "delete_cmd_prefix": "del ",
     "library": "var_list.py",
     "varRefreshCmd": "print(var_dic_list())"
    },
    "r": {
     "delete_cmd_postfix": ") ",
     "delete_cmd_prefix": "rm(",
     "library": "var_list.r",
     "varRefreshCmd": "cat(var_dic_list()) "
    }
   },
   "types_to_exclude": [
    "module",
    "function",
    "builtin_function_or_method",
    "instance",
    "_Feature"
   ],
   "window_display": false
  }
 },
 "nbformat": 4,
 "nbformat_minor": 1
}
