{
 "cells": [
  {
   "cell_type": "markdown",
   "metadata": {},
   "source": [
    "# Spotify Popularity Predictor (39%)"
   ]
  },
  {
   "cell_type": "markdown",
   "metadata": {},
   "source": [
    "The goal of this challenge is to create a model that predicts the popularity of a song based on its features.\n",
    "\n",
    "The dataset contains a list of tracks with the following characteristics:\n",
    "- `acousticness`: whether the track is acoustic\n",
    "- `danceability`: describes how suitable a track is for dancing\n",
    "- `duration_ms`: duration of the track in milliseconds\n",
    "- `energy`: represents a perceptual measure of intensity and activity\n",
    "- `explicit`: whether the track has explicit lyrics\n",
    "- `id`: id for the track\n",
    "- `instrumentalness`: predicts whether a track contains no vocals\n",
    "- `key`: the key the track is in\n",
    "- `liveness`: detects the presence of an audience in the recording\n",
    "- `loudness`: the overall loudness of a track in decibels\n",
    "- `mode`: modality of a track\n",
    "- `name`: name of the track\n",
    "- `popularity`: popularity of the track\n",
    "- `release_date`: release date\n",
    "- `speechiness`: detects the presence of spoken words in a track\n",
    "- `tempo`: overall estimated tempo of a track in beats per minute\n",
    "- `valence`: describes the musical positiveness conveyed by a track\n",
    "- `artist`: artist who performed the track"
   ]
  },
  {
   "cell_type": "markdown",
   "metadata": {},
   "source": [
    "# Model"
   ]
  },
  {
   "cell_type": "markdown",
   "metadata": {},
   "source": [
    "## Data collection\n",
    "\n",
    "📝 **Load the `spotify_popularity_train.csv` dataset from the provided URL**\n",
    "- Display the first few rows\n",
    "- Perform the basic cleaning operations (remove redundant lines, as well as those with missing values)\n",
    "- Store the result in a `DataFrame` named `data`"
   ]
  },
  {
   "cell_type": "code",
   "execution_count": 103,
   "metadata": {},
   "outputs": [],
   "source": [
    "url = \"https://wagon-public-datasets.s3.amazonaws.com/certification_paris_2021Q1/spotify_popularity_train.csv\""
   ]
  },
  {
   "cell_type": "code",
   "execution_count": 104,
   "metadata": {},
   "outputs": [],
   "source": [
    "import numpy as np"
   ]
  },
  {
   "cell_type": "code",
   "execution_count": 105,
   "metadata": {},
   "outputs": [],
   "source": [
    "import pandas as pd\n",
    "data = pd.read_csv(url)"
   ]
  },
  {
   "cell_type": "code",
   "execution_count": 106,
   "metadata": {},
   "outputs": [
    {
     "data": {
      "text/html": [
       "<div>\n",
       "<style scoped>\n",
       "    .dataframe tbody tr th:only-of-type {\n",
       "        vertical-align: middle;\n",
       "    }\n",
       "\n",
       "    .dataframe tbody tr th {\n",
       "        vertical-align: top;\n",
       "    }\n",
       "\n",
       "    .dataframe thead th {\n",
       "        text-align: right;\n",
       "    }\n",
       "</style>\n",
       "<table border=\"1\" class=\"dataframe\">\n",
       "  <thead>\n",
       "    <tr style=\"text-align: right;\">\n",
       "      <th></th>\n",
       "      <th>acousticness</th>\n",
       "      <th>danceability</th>\n",
       "      <th>duration_ms</th>\n",
       "      <th>energy</th>\n",
       "      <th>explicit</th>\n",
       "      <th>id</th>\n",
       "      <th>instrumentalness</th>\n",
       "      <th>key</th>\n",
       "      <th>liveness</th>\n",
       "      <th>loudness</th>\n",
       "      <th>mode</th>\n",
       "      <th>name</th>\n",
       "      <th>popularity</th>\n",
       "      <th>release_date</th>\n",
       "      <th>speechiness</th>\n",
       "      <th>tempo</th>\n",
       "      <th>valence</th>\n",
       "      <th>artist</th>\n",
       "    </tr>\n",
       "  </thead>\n",
       "  <tbody>\n",
       "    <tr>\n",
       "      <th>0</th>\n",
       "      <td>0.65400</td>\n",
       "      <td>0.499</td>\n",
       "      <td>219827</td>\n",
       "      <td>0.190</td>\n",
       "      <td>0</td>\n",
       "      <td>0B6BeEUd6UwFlbsHMQKjob</td>\n",
       "      <td>0.004090</td>\n",
       "      <td>7</td>\n",
       "      <td>0.0898</td>\n",
       "      <td>-16.435</td>\n",
       "      <td>1</td>\n",
       "      <td>Back in the Goodle Days</td>\n",
       "      <td>40</td>\n",
       "      <td>1971</td>\n",
       "      <td>0.0454</td>\n",
       "      <td>149.460</td>\n",
       "      <td>0.4300</td>\n",
       "      <td>John Hartford</td>\n",
       "    </tr>\n",
       "    <tr>\n",
       "      <th>1</th>\n",
       "      <td>0.00592</td>\n",
       "      <td>0.439</td>\n",
       "      <td>483948</td>\n",
       "      <td>0.808</td>\n",
       "      <td>0</td>\n",
       "      <td>5Gpx4lJy3vKmIvjwbiR5c8</td>\n",
       "      <td>0.140000</td>\n",
       "      <td>2</td>\n",
       "      <td>0.0890</td>\n",
       "      <td>-8.497</td>\n",
       "      <td>1</td>\n",
       "      <td>Worlds Which Break Us - Intro Mix</td>\n",
       "      <td>22</td>\n",
       "      <td>2015-02-02</td>\n",
       "      <td>0.0677</td>\n",
       "      <td>138.040</td>\n",
       "      <td>0.0587</td>\n",
       "      <td>Driftmoon</td>\n",
       "    </tr>\n",
       "    <tr>\n",
       "      <th>2</th>\n",
       "      <td>0.73400</td>\n",
       "      <td>0.523</td>\n",
       "      <td>245693</td>\n",
       "      <td>0.288</td>\n",
       "      <td>0</td>\n",
       "      <td>7MxuUYqrCIy93h1EEHrIrL</td>\n",
       "      <td>0.000000</td>\n",
       "      <td>0</td>\n",
       "      <td>0.0771</td>\n",
       "      <td>-11.506</td>\n",
       "      <td>1</td>\n",
       "      <td>I'm The Greatest Star</td>\n",
       "      <td>40</td>\n",
       "      <td>1968-09-01</td>\n",
       "      <td>0.2140</td>\n",
       "      <td>75.869</td>\n",
       "      <td>0.4640</td>\n",
       "      <td>Barbra Streisand</td>\n",
       "    </tr>\n",
       "    <tr>\n",
       "      <th>3</th>\n",
       "      <td>0.42900</td>\n",
       "      <td>0.681</td>\n",
       "      <td>130026</td>\n",
       "      <td>0.165</td>\n",
       "      <td>0</td>\n",
       "      <td>4GeYbfIx1vSQXTfQb1m8Th</td>\n",
       "      <td>0.000000</td>\n",
       "      <td>11</td>\n",
       "      <td>0.3940</td>\n",
       "      <td>-21.457</td>\n",
       "      <td>0</td>\n",
       "      <td>Kapitel 281 - Der Page und die Herzogin</td>\n",
       "      <td>1</td>\n",
       "      <td>1926</td>\n",
       "      <td>0.9460</td>\n",
       "      <td>145.333</td>\n",
       "      <td>0.2880</td>\n",
       "      <td>Georgette Heyer</td>\n",
       "    </tr>\n",
       "    <tr>\n",
       "      <th>4</th>\n",
       "      <td>0.56200</td>\n",
       "      <td>0.543</td>\n",
       "      <td>129813</td>\n",
       "      <td>0.575</td>\n",
       "      <td>0</td>\n",
       "      <td>2JPGGZwajjMk0vvhfC17RK</td>\n",
       "      <td>0.000004</td>\n",
       "      <td>2</td>\n",
       "      <td>0.1270</td>\n",
       "      <td>-7.374</td>\n",
       "      <td>1</td>\n",
       "      <td>Away from You</td>\n",
       "      <td>15</td>\n",
       "      <td>2008-02-11</td>\n",
       "      <td>0.0265</td>\n",
       "      <td>139.272</td>\n",
       "      <td>0.8010</td>\n",
       "      <td>Gerry &amp; The Pacemakers</td>\n",
       "    </tr>\n",
       "  </tbody>\n",
       "</table>\n",
       "</div>"
      ],
      "text/plain": [
       "   acousticness  danceability  duration_ms  energy  explicit  \\\n",
       "0       0.65400         0.499       219827   0.190         0   \n",
       "1       0.00592         0.439       483948   0.808         0   \n",
       "2       0.73400         0.523       245693   0.288         0   \n",
       "3       0.42900         0.681       130026   0.165         0   \n",
       "4       0.56200         0.543       129813   0.575         0   \n",
       "\n",
       "                       id  instrumentalness  key  liveness  loudness  mode  \\\n",
       "0  0B6BeEUd6UwFlbsHMQKjob          0.004090    7    0.0898   -16.435     1   \n",
       "1  5Gpx4lJy3vKmIvjwbiR5c8          0.140000    2    0.0890    -8.497     1   \n",
       "2  7MxuUYqrCIy93h1EEHrIrL          0.000000    0    0.0771   -11.506     1   \n",
       "3  4GeYbfIx1vSQXTfQb1m8Th          0.000000   11    0.3940   -21.457     0   \n",
       "4  2JPGGZwajjMk0vvhfC17RK          0.000004    2    0.1270    -7.374     1   \n",
       "\n",
       "                                      name  popularity release_date  \\\n",
       "0                  Back in the Goodle Days          40         1971   \n",
       "1        Worlds Which Break Us - Intro Mix          22   2015-02-02   \n",
       "2                    I'm The Greatest Star          40   1968-09-01   \n",
       "3  Kapitel 281 - Der Page und die Herzogin           1         1926   \n",
       "4                            Away from You          15   2008-02-11   \n",
       "\n",
       "   speechiness    tempo  valence                  artist  \n",
       "0       0.0454  149.460   0.4300           John Hartford  \n",
       "1       0.0677  138.040   0.0587               Driftmoon  \n",
       "2       0.2140   75.869   0.4640        Barbra Streisand  \n",
       "3       0.9460  145.333   0.2880         Georgette Heyer  \n",
       "4       0.0265  139.272   0.8010  Gerry & The Pacemakers  "
      ]
     },
     "execution_count": 106,
     "metadata": {},
     "output_type": "execute_result"
    }
   ],
   "source": [
    "data.head() #from the start release date might be a problem : some are year/month/day, some year only.."
   ]
  },
  {
   "cell_type": "code",
   "execution_count": 107,
   "metadata": {},
   "outputs": [
    {
     "data": {
      "text/plain": [
       "(52317, 18)"
      ]
     },
     "execution_count": 107,
     "metadata": {},
     "output_type": "execute_result"
    }
   ],
   "source": [
    "data.shape"
   ]
  },
  {
   "cell_type": "code",
   "execution_count": 108,
   "metadata": {},
   "outputs": [],
   "source": [
    "#detecting missing data\n",
    "data.isnull().sum().sort_values(ascending=False) #NaN count for each column\n",
    "\n",
    "#only 4 missing artists in entire data set (52000+ lines) ... We will drop them\n",
    "data=data.dropna()"
   ]
  },
  {
   "cell_type": "code",
   "execution_count": 109,
   "metadata": {},
   "outputs": [
    {
     "data": {
      "text/plain": [
       "(52313, 18)"
      ]
     },
     "execution_count": 109,
     "metadata": {},
     "output_type": "execute_result"
    }
   ],
   "source": [
    "data.shape"
   ]
  },
  {
   "cell_type": "code",
   "execution_count": 110,
   "metadata": {},
   "outputs": [
    {
     "data": {
      "text/plain": [
       "(52053, 18)"
      ]
     },
     "execution_count": 110,
     "metadata": {},
     "output_type": "execute_result"
    }
   ],
   "source": [
    "#removing duplicates\n",
    "data = data.drop_duplicates()\n",
    "data.shape"
   ]
  },
  {
   "cell_type": "code",
   "execution_count": 111,
   "metadata": {},
   "outputs": [],
   "source": [
    "#basic cleaning operations done (remove redundant lines, as well as those with missing values)"
   ]
  },
  {
   "cell_type": "markdown",
   "metadata": {},
   "source": [
    "🧪 **Run the following cell to save your results**"
   ]
  },
  {
   "cell_type": "code",
   "execution_count": 112,
   "metadata": {},
   "outputs": [],
   "source": [
    "from nbresult import ChallengeResult\n",
    "\n",
    "ChallengeResult(\n",
    "    \"data_cleaning\",\n",
    "    shape=data.shape).write()"
   ]
  },
  {
   "cell_type": "markdown",
   "metadata": {},
   "source": [
    "## Simple model"
   ]
  },
  {
   "cell_type": "markdown",
   "metadata": {},
   "source": [
    "📝 **Which sklearn's scoring [metric](https://scikit-learn.org/stable/modules/model_evaluation.html) should we use if we want to:**\n",
    "- **Strongly penalize** largest errors\n",
    "- Measure errors **in the same unit** than `popularity` \n",
    "- Is better when greater (metric_good_model > metric_bad_model)\n",
    "\n",
    "👉 Store its exact name as `string` in the variable `scoring` below\n",
    "\n",
    "🚨 You must use this metric for the rest of the challenge"
   ]
  },
  {
   "cell_type": "code",
   "execution_count": 113,
   "metadata": {},
   "outputs": [
    {
     "data": {
      "text/plain": [
       "array([40, 22,  1, 15, 30, 57, 41,  0, 31,  3, 25, 83, 50, 10, 35,  4, 16,\n",
       "       12, 37, 71, 65, 67, 23, 34, 32, 80, 33, 20,  7, 48, 56, 46,  9, 36,\n",
       "       28, 47, 64,  8, 51, 11, 29, 14, 55, 26, 53, 24, 13,  2, 62, 19, 58,\n",
       "       77, 38, 61, 42, 43, 21, 27, 45, 72, 39,  5, 54, 17, 63, 75, 69,  6,\n",
       "       68, 73, 52, 49, 90, 87, 74, 44, 70, 18, 59, 66, 60, 78, 82, 79, 76,\n",
       "       85, 89, 81, 84, 92, 88, 86, 91, 94, 96])"
      ]
     },
     "execution_count": 113,
     "metadata": {},
     "output_type": "execute_result"
    }
   ],
   "source": [
    "data.popularity.unique()"
   ]
  },
  {
   "cell_type": "code",
   "execution_count": 114,
   "metadata": {},
   "outputs": [],
   "source": [
    "scoring = \"neg_root_mean_squared_error\""
   ]
  },
  {
   "cell_type": "markdown",
   "metadata": {},
   "source": [
    "**📝 Let's build a first simple linear model using only the numerical features in our dataset to start with**\n",
    "- Build `X_simple` keeping only numerical features\n",
    "- Build `y` your target containing the `popularity`"
   ]
  },
  {
   "cell_type": "code",
   "execution_count": 115,
   "metadata": {},
   "outputs": [],
   "source": [
    "#getting all numerical values\n",
    "X_simple=df.select_dtypes([np.int64,np.float64])\n",
    "\n",
    "#dropping popularity\n",
    "X_simple=X_simple.drop(['popularity'], axis=1)"
   ]
  },
  {
   "cell_type": "code",
   "execution_count": 116,
   "metadata": {
    "collapsed": true
   },
   "outputs": [
    {
     "name": "stdout",
     "output_type": "stream",
     "text": [
      "acousticness\n"
     ]
    },
    {
     "data": {
      "image/png": "[encoded data removed]",
      "text/plain": [
       "<Figure size 432x288 with 1 Axes>"
      ]
     },
     "metadata": {
      "needs_background": "light"
     },
     "output_type": "display_data"
    },
    {
     "name": "stdout",
     "output_type": "stream",
     "text": [
      "danceability\n"
     ]
    },
    {
     "data": {
      "image/png": "[encoded data removed]",
      "text/plain": [
       "<Figure size 432x288 with 1 Axes>"
      ]
     },
     "metadata": {
      "needs_background": "light"
     },
     "output_type": "display_data"
    },
    {
     "name": "stdout",
     "output_type": "stream",
     "text": [
      "duration_ms\n"
     ]
    },
    {
     "data": {
      "image/png": "[encoded data removed]",
      "text/plain": [
       "<Figure size 432x288 with 1 Axes>"
      ]
     },
     "metadata": {
      "needs_background": "light"
     },
     "output_type": "display_data"
    },
    {
     "name": "stdout",
     "output_type": "stream",
     "text": [
      "energy\n"
     ]
    },
    {
     "data": {
      "image/png": "[encoded data removed]",
      "text/plain": [
       "<Figure size 432x288 with 1 Axes>"
      ]
     },
     "metadata": {
      "needs_background": "light"
     },
     "output_type": "display_data"
    },
    {
     "name": "stdout",
     "output_type": "stream",
     "text": [
      "explicit\n"
     ]
    },
    {
     "data": {
      "image/png": "[encoded data removed]",
      "text/plain": [
       "<Figure size 432x288 with 1 Axes>"
      ]
     },
     "metadata": {
      "needs_background": "light"
     },
     "output_type": "display_data"
    },
    {
     "name": "stdout",
     "output_type": "stream",
     "text": [
      "instrumentalness\n"
     ]
    },
    {
     "data": {
      "image/png": "[encoded data removed]",
      "text/plain": [
       "<Figure size 432x288 with 1 Axes>"
      ]
     },
     "metadata": {
      "needs_background": "light"
     },
     "output_type": "display_data"
    },
    {
     "name": "stdout",
     "output_type": "stream",
     "text": [
      "key\n"
     ]
    },
    {
     "data": {
      "image/png": "[encoded data removed]",
      "text/plain": [
       "<Figure size 432x288 with 1 Axes>"
      ]
     },
     "metadata": {
      "needs_background": "light"
     },
     "output_type": "display_data"
    },
    {
     "name": "stdout",
     "output_type": "stream",
     "text": [
      "liveness\n"
     ]
    },
    {
     "data": {
      "image/png": "[encoded data removed]",
      "text/plain": [
       "<Figure size 432x288 with 1 Axes>"
      ]
     },
     "metadata": {
      "needs_background": "light"
     },
     "output_type": "display_data"
    },
    {
     "name": "stdout",
     "output_type": "stream",
     "text": [
      "loudness\n"
     ]
    },
    {
     "data": {
      "image/png": "[encoded data removed]",
      "text/plain": [
       "<Figure size 432x288 with 1 Axes>"
      ]
     },
     "metadata": {
      "needs_background": "light"
     },
     "output_type": "display_data"
    },
    {
     "name": "stdout",
     "output_type": "stream",
     "text": [
      "mode\n"
     ]
    },
    {
     "data": {
      "image/png": "[encoded data removed]",
      "text/plain": [
       "<Figure size 432x288 with 1 Axes>"
      ]
     },
     "metadata": {
      "needs_background": "light"
     },
     "output_type": "display_data"
    },
    {
     "name": "stdout",
     "output_type": "stream",
     "text": [
      "speechiness\n"
     ]
    },
    {
     "data": {
      "image/png": "[encoded data removed]",
      "text/plain": [
       "<Figure size 432x288 with 1 Axes>"
      ]
     },
     "metadata": {
      "needs_background": "light"
     },
     "output_type": "display_data"
    },
    {
     "name": "stdout",
     "output_type": "stream",
     "text": [
      "tempo\n"
     ]
    },
    {
     "data": {
      "image/png": "[encoded data removed]",
      "text/plain": [
       "<Figure size 432x288 with 1 Axes>"
      ]
     },
     "metadata": {
      "needs_background": "light"
     },
     "output_type": "display_data"
    },
    {
     "name": "stdout",
     "output_type": "stream",
     "text": [
      "valence\n"
     ]
    },
    {
     "data": {
      "image/png": "[encoded data removed]",
      "text/plain": [
       "<Figure size 432x288 with 1 Axes>"
      ]
     },
     "metadata": {
      "needs_background": "light"
     },
     "output_type": "display_data"
    }
   ],
   "source": [
    "#plotting numerical values to see how to scale them\n",
    "import matplotlib.pyplot as plt\n",
    "\n",
    "for col in X_simple.columns.values:\n",
    "    print(col)\n",
    "    plt.hist(X_simple[col],bins=25)\n",
    "    plt.show()"
   ]
  },
  {
   "cell_type": "markdown",
   "metadata": {},
   "source": [
    " From plots what needs scaling:\n",
    " \n",
    " standardizing(standard): loudness,tempo\n",
    " robust scaling :duration_ms\n",
    " one_hot_encoding: key\n",
    " "
   ]
  },
  {
   "cell_type": "code",
   "execution_count": 117,
   "metadata": {},
   "outputs": [],
   "source": [
    "#scaling X_simple standard\n",
    "\n",
    "from sklearn.preprocessing import StandardScaler\n",
    "scaler = StandardScaler() # Instanciate StandarScaler\n",
    "\n",
    "cols_standard=['loudness','tempo']\n",
    "\n",
    "for col in cols_standard:\n",
    "    scaler.fit(X_simple[[col]]) # Fit scaler to data\n",
    "    X_simple[col] = scaler.transform(X_simple[[col]]) # Use scaler to transform data\n"
   ]
  },
  {
   "cell_type": "code",
   "execution_count": 118,
   "metadata": {},
   "outputs": [],
   "source": [
    "#scaling X_simple Robust Scaler\n",
    "\n",
    "from sklearn.preprocessing import RobustScaler\n",
    "scaler = RobustScaler() # Instanciate StandarScaler\n",
    "\n",
    "cols_standard=['duration_ms']\n",
    "\n",
    "for col in cols_standard:\n",
    "    scaler.fit(X_simple[[col]]) # Fit scaler to data\n",
    "    X_simple[col] = scaler.transform(X_simple[[col]]) # Use scaler to transform data\n"
   ]
  },
  {
   "cell_type": "code",
   "execution_count": 119,
   "metadata": {},
   "outputs": [
    {
     "data": {
      "text/html": [
       "<div>\n",
       "<style scoped>\n",
       "    .dataframe tbody tr th:only-of-type {\n",
       "        vertical-align: middle;\n",
       "    }\n",
       "\n",
       "    .dataframe tbody tr th {\n",
       "        vertical-align: top;\n",
       "    }\n",
       "\n",
       "    .dataframe thead th {\n",
       "        text-align: right;\n",
       "    }\n",
       "</style>\n",
       "<table border=\"1\" class=\"dataframe\">\n",
       "  <thead>\n",
       "    <tr style=\"text-align: right;\">\n",
       "      <th></th>\n",
       "      <th>acousticness</th>\n",
       "      <th>danceability</th>\n",
       "      <th>duration_ms</th>\n",
       "      <th>energy</th>\n",
       "      <th>explicit</th>\n",
       "      <th>instrumentalness</th>\n",
       "      <th>key</th>\n",
       "      <th>liveness</th>\n",
       "      <th>loudness</th>\n",
       "      <th>mode</th>\n",
       "      <th>...</th>\n",
       "      <th>2</th>\n",
       "      <th>3</th>\n",
       "      <th>4</th>\n",
       "      <th>5</th>\n",
       "      <th>6</th>\n",
       "      <th>7</th>\n",
       "      <th>8</th>\n",
       "      <th>9</th>\n",
       "      <th>10</th>\n",
       "      <th>11</th>\n",
       "    </tr>\n",
       "  </thead>\n",
       "  <tbody>\n",
       "    <tr>\n",
       "      <th>0</th>\n",
       "      <td>0.65400</td>\n",
       "      <td>0.499</td>\n",
       "      <td>0.136339</td>\n",
       "      <td>0.190</td>\n",
       "      <td>0</td>\n",
       "      <td>0.004090</td>\n",
       "      <td>7</td>\n",
       "      <td>0.0898</td>\n",
       "      <td>-0.823320</td>\n",
       "      <td>1</td>\n",
       "      <td>...</td>\n",
       "      <td>0.0</td>\n",
       "      <td>0.0</td>\n",
       "      <td>0.0</td>\n",
       "      <td>0.0</td>\n",
       "      <td>0.0</td>\n",
       "      <td>1.0</td>\n",
       "      <td>0.0</td>\n",
       "      <td>0.0</td>\n",
       "      <td>0.0</td>\n",
       "      <td>0.0</td>\n",
       "    </tr>\n",
       "    <tr>\n",
       "      <th>1</th>\n",
       "      <td>0.00592</td>\n",
       "      <td>0.439</td>\n",
       "      <td>2.781411</td>\n",
       "      <td>0.808</td>\n",
       "      <td>0</td>\n",
       "      <td>0.140000</td>\n",
       "      <td>2</td>\n",
       "      <td>0.0890</td>\n",
       "      <td>0.570288</td>\n",
       "      <td>1</td>\n",
       "      <td>...</td>\n",
       "      <td>1.0</td>\n",
       "      <td>0.0</td>\n",
       "      <td>0.0</td>\n",
       "      <td>0.0</td>\n",
       "      <td>0.0</td>\n",
       "      <td>0.0</td>\n",
       "      <td>0.0</td>\n",
       "      <td>0.0</td>\n",
       "      <td>0.0</td>\n",
       "      <td>0.0</td>\n",
       "    </tr>\n",
       "    <tr>\n",
       "      <th>2</th>\n",
       "      <td>0.73400</td>\n",
       "      <td>0.523</td>\n",
       "      <td>0.395377</td>\n",
       "      <td>0.288</td>\n",
       "      <td>0</td>\n",
       "      <td>0.000000</td>\n",
       "      <td>0</td>\n",
       "      <td>0.0771</td>\n",
       "      <td>0.042023</td>\n",
       "      <td>1</td>\n",
       "      <td>...</td>\n",
       "      <td>0.0</td>\n",
       "      <td>0.0</td>\n",
       "      <td>0.0</td>\n",
       "      <td>0.0</td>\n",
       "      <td>0.0</td>\n",
       "      <td>0.0</td>\n",
       "      <td>0.0</td>\n",
       "      <td>0.0</td>\n",
       "      <td>0.0</td>\n",
       "      <td>0.0</td>\n",
       "    </tr>\n",
       "    <tr>\n",
       "      <th>3</th>\n",
       "      <td>0.42900</td>\n",
       "      <td>0.681</td>\n",
       "      <td>-0.762984</td>\n",
       "      <td>0.165</td>\n",
       "      <td>0</td>\n",
       "      <td>0.000000</td>\n",
       "      <td>11</td>\n",
       "      <td>0.3940</td>\n",
       "      <td>-1.704990</td>\n",
       "      <td>0</td>\n",
       "      <td>...</td>\n",
       "      <td>0.0</td>\n",
       "      <td>0.0</td>\n",
       "      <td>0.0</td>\n",
       "      <td>0.0</td>\n",
       "      <td>0.0</td>\n",
       "      <td>0.0</td>\n",
       "      <td>0.0</td>\n",
       "      <td>0.0</td>\n",
       "      <td>0.0</td>\n",
       "      <td>1.0</td>\n",
       "    </tr>\n",
       "    <tr>\n",
       "      <th>4</th>\n",
       "      <td>0.56200</td>\n",
       "      <td>0.543</td>\n",
       "      <td>-0.765117</td>\n",
       "      <td>0.575</td>\n",
       "      <td>0</td>\n",
       "      <td>0.000004</td>\n",
       "      <td>2</td>\n",
       "      <td>0.1270</td>\n",
       "      <td>0.767444</td>\n",
       "      <td>1</td>\n",
       "      <td>...</td>\n",
       "      <td>1.0</td>\n",
       "      <td>0.0</td>\n",
       "      <td>0.0</td>\n",
       "      <td>0.0</td>\n",
       "      <td>0.0</td>\n",
       "      <td>0.0</td>\n",
       "      <td>0.0</td>\n",
       "      <td>0.0</td>\n",
       "      <td>0.0</td>\n",
       "      <td>0.0</td>\n",
       "    </tr>\n",
       "  </tbody>\n",
       "</table>\n",
       "<p>5 rows × 25 columns</p>\n",
       "</div>"
      ],
      "text/plain": [
       "   acousticness  danceability  duration_ms  energy  explicit  \\\n",
       "0       0.65400         0.499     0.136339   0.190         0   \n",
       "1       0.00592         0.439     2.781411   0.808         0   \n",
       "2       0.73400         0.523     0.395377   0.288         0   \n",
       "3       0.42900         0.681    -0.762984   0.165         0   \n",
       "4       0.56200         0.543    -0.765117   0.575         0   \n",
       "\n",
       "   instrumentalness  key  liveness  loudness  mode  ...    2    3    4    5  \\\n",
       "0          0.004090    7    0.0898 -0.823320     1  ...  0.0  0.0  0.0  0.0   \n",
       "1          0.140000    2    0.0890  0.570288     1  ...  1.0  0.0  0.0  0.0   \n",
       "2          0.000000    0    0.0771  0.042023     1  ...  0.0  0.0  0.0  0.0   \n",
       "3          0.000000   11    0.3940 -1.704990     0  ...  0.0  0.0  0.0  0.0   \n",
       "4          0.000004    2    0.1270  0.767444     1  ...  1.0  0.0  0.0  0.0   \n",
       "\n",
       "     6    7    8    9   10   11  \n",
       "0  0.0  1.0  0.0  0.0  0.0  0.0  \n",
       "1  0.0  0.0  0.0  0.0  0.0  0.0  \n",
       "2  0.0  0.0  0.0  0.0  0.0  0.0  \n",
       "3  0.0  0.0  0.0  0.0  0.0  1.0  \n",
       "4  0.0  0.0  0.0  0.0  0.0  0.0  \n",
       "\n",
       "[5 rows x 25 columns]"
      ]
     },
     "execution_count": 119,
     "metadata": {},
     "output_type": "execute_result"
    }
   ],
   "source": [
    "#scaling X_simple OHE\n",
    "\n",
    "from sklearn.preprocessing import OneHotEncoder\n",
    "\n",
    "ohe = OneHotEncoder(sparse = False) # Instanciate encoder\n",
    "\n",
    "ohe.fit(X_simple[['key']]) # Fit encoder\n",
    "\n",
    "key_encoded = ohe.transform(X_simple[['key']]) # key\n",
    "\n",
    "X_simple[\"0\"],X_simple[\"1\"],X_simple['2'],X_simple['3'],X_simple['4'],\\\n",
    "X_simple['5'],X_simple['6'],X_simple['7'],X_simple['8'],\\\n",
    "X_simple['9'],X_simple['10'],X_simple['11'] = key_encoded.T # Transpose encoded Alley back into dataframe\n",
    "\n",
    "X_simple.head()"
   ]
  },
  {
   "cell_type": "code",
   "execution_count": 120,
   "metadata": {},
   "outputs": [],
   "source": [
    "y=data['popularity']"
   ]
  },
  {
   "cell_type": "markdown",
   "metadata": {},
   "source": [
    "### Holdout evaluation"
   ]
  },
  {
   "cell_type": "markdown",
   "metadata": {},
   "source": [
    "**📝 Create the 4 variables `X_train_simple` `y_train`, `X_test_simple`, `y_test` with a 50% split with random sampling**"
   ]
  },
  {
   "cell_type": "code",
   "execution_count": 121,
   "metadata": {},
   "outputs": [],
   "source": [
    "from sklearn.model_selection import train_test_split\n"
   ]
  },
  {
   "cell_type": "code",
   "execution_count": 122,
   "metadata": {},
   "outputs": [],
   "source": [
    "X_train_simple, X_test_simple, y_train, y_test = train_test_split(X_simple, y, test_size=0.5)"
   ]
  },
  {
   "cell_type": "markdown",
   "metadata": {},
   "source": [
    "**📝 Fit and evaluate a basic linear model (do not fine tune it) with this holdout method**\n",
    "- Store your model true performance in a float variable `score_simple_holdout`"
   ]
  },
  {
   "cell_type": "code",
   "execution_count": 123,
   "metadata": {},
   "outputs": [],
   "source": [
    "from sklearn.linear_model import LinearRegression"
   ]
  },
  {
   "cell_type": "code",
   "execution_count": 124,
   "metadata": {},
   "outputs": [],
   "source": [
    "# Instanciate the model\n",
    "model = LinearRegression()\n",
    "\n",
    "# Train the model on the Training data\n",
    "model.fit(X_train_simple, y_train)\n",
    "\n",
    "\n",
    "y_predict=model.predict(X_test_simple)\n"
   ]
  },
  {
   "cell_type": "code",
   "execution_count": 125,
   "metadata": {},
   "outputs": [],
   "source": [
    "score_simple_holdout=-mean_squared_error(y_test, y_predict, squared=False)"
   ]
  },
  {
   "cell_type": "code",
   "execution_count": 126,
   "metadata": {},
   "outputs": [
    {
     "data": {
      "text/plain": [
       "-18.351564704867332"
      ]
     },
     "execution_count": 126,
     "metadata": {},
     "output_type": "execute_result"
    }
   ],
   "source": [
    "score_simple_holdout"
   ]
  },
  {
   "cell_type": "markdown",
   "metadata": {},
   "source": [
    "### Cross-validation evaluation"
   ]
  },
  {
   "cell_type": "markdown",
   "metadata": {},
   "source": [
    "📝 **Let's be sure our score is representative**: \n",
    "- 5-times cross validate a basic linear model on the whole numeric dataset (`X_simple`, `y`)\n",
    "- Do not fine tune your model\n",
    "- Store your mean performance in a variable `score_simple_cv_mean` as a `float`\n",
    "- Store the standard deviation of your performances in a float variable `score_simple_cv_std`"
   ]
  },
  {
   "cell_type": "code",
   "execution_count": 127,
   "metadata": {},
   "outputs": [],
   "source": [
    "from sklearn.metrics import mean_squared_error\n",
    "from sklearn.model_selection import cross_validate\n",
    "cv_results = cross_validate(model, X_simple, y, cv=5, \n",
    "                            scoring=['neg_root_mean_squared_error'])\n",
    "\n",
    "\n",
    "score_simple_cv_mean=cv_results['test_neg_root_mean_squared_error'].mean()\n",
    "score_simple_cv_std=cv_results['test_neg_root_mean_squared_error'].std()"
   ]
  },
  {
   "cell_type": "code",
   "execution_count": 128,
   "metadata": {},
   "outputs": [
    {
     "data": {
      "text/plain": [
       "0.09619451502740349"
      ]
     },
     "execution_count": 128,
     "metadata": {},
     "output_type": "execute_result"
    }
   ],
   "source": [
    "score_simple_cv_std"
   ]
  },
  {
   "cell_type": "markdown",
   "metadata": {},
   "source": [
    "🧪 **Run the following cell to save your results**"
   ]
  },
  {
   "cell_type": "code",
   "execution_count": 129,
   "metadata": {},
   "outputs": [],
   "source": [
    "from nbresult import ChallengeResult\n",
    "\n",
    "ChallengeResult(\n",
    "    \"simple_model\",\n",
    "    scoring=scoring,\n",
    "    shape_train = X_train_simple.shape,\n",
    "    score_simple_holdout=score_simple_holdout,\n",
    "    score_simple_cv_mean=score_simple_cv_mean,\n",
    "    score_simple_cv_std=score_simple_cv_std,\n",
    ").write()"
   ]
  },
  {
   "cell_type": "markdown",
   "metadata": {},
   "source": [
    "## Feature engineering\n",
    "\n",
    "(From now on, we will stop using train/test split but cross-validation on the whole dataset instead)  \n",
    "\n",
    "Let's try to improve performance using the feature `release_date`"
   ]
  },
  {
   "cell_type": "markdown",
   "metadata": {},
   "source": [
    "**📝 Create `X_engineered` by adding a new column `year` to `X`, containing the release year of the track as `integer`**"
   ]
  },
  {
   "cell_type": "code",
   "execution_count": 131,
   "metadata": {},
   "outputs": [],
   "source": [
    "#creating X_engineered\n",
    "X_engineered=X_simple\n",
    "\n",
    "#adding year\n",
    "X_engineered['year']=data['release_date']\n",
    "\n",
    "#converting it to string, keeping first four char and then back to int to have the year\n",
    "X_engineered['year']=X_engineered['year'].apply(lambda x: int(str(x)[:4]))"
   ]
  },
  {
   "cell_type": "markdown",
   "metadata": {},
   "source": [
    "📝 **Let's see how this impact the performance of our model.**\n",
    "- Retrain the same simple linear model on numerical values only, adding the new feature `year`\n",
    "- Save the mean cross-validated performance metric in a variable named `score_engineered` as a `float`\n",
    "- Do not fine tune the model yet"
   ]
  },
  {
   "cell_type": "code",
   "execution_count": 143,
   "metadata": {},
   "outputs": [],
   "source": [
    "X_train_engineered, X_test_engineered, y_train, y_test = train_test_split(X_engineered, y, test_size=0.5)"
   ]
  },
  {
   "cell_type": "code",
   "execution_count": 144,
   "metadata": {},
   "outputs": [
    {
     "data": {
      "text/plain": [
       "LinearRegression()"
      ]
     },
     "execution_count": 144,
     "metadata": {},
     "output_type": "execute_result"
    }
   ],
   "source": [
    "# Instanciate the model\n",
    "model = LinearRegression()\n",
    "\n",
    "# Train the model on the Training data\n",
    "model.fit(X_train_engineered, y_train)"
   ]
  },
  {
   "cell_type": "code",
   "execution_count": 146,
   "metadata": {},
   "outputs": [],
   "source": [
    "cv_results = cross_validate(model, X_simple, y, cv=5, \n",
    "                            scoring=['neg_root_mean_squared_error'])\n",
    "\n",
    "\n",
    "score_engineered=cv_results['test_neg_root_mean_squared_error'].mean()"
   ]
  },
  {
   "cell_type": "markdown",
   "metadata": {},
   "source": [
    "🧪 **Run the following cell to save your results**"
   ]
  },
  {
   "cell_type": "code",
   "execution_count": 148,
   "metadata": {},
   "outputs": [],
   "source": [
    "from nbresult import ChallengeResult\n",
    "\n",
    "ChallengeResult(\"feature_engineering\",\n",
    "    cols = X_engineered.columns,\n",
    "    years = X_engineered.get(\"year\"),\n",
    "    score_engineered=score_engineered\n",
    ").write()"
   ]
  },
  {
   "cell_type": "markdown",
   "metadata": {},
   "source": [
    "## Pipelining\n",
    "\n",
    "Let's now look for maximum performance by creating a solid preprocessing pipeline.\n",
    "\n",
    "**📝 Create a sklearn preprocessing [pipeline](https://scikit-learn.org/stable/modules/generated/sklearn.pipeline.Pipeline.html) and store it as `preproc`**\n",
    "\n",
    "- Feel free to add any preprocessing steps you think of\n",
    "- You may want to integrate your feature engineering for `year`\n",
    "- You may also further improve it using the `ArtistPopularityTransformer` class given to you below\n",
    "- Don't add any model to it yet\n",
    "\n",
    "🚨 Advice: It is better for you to have a working pipeline (even simple one) rather than NO pipeline at all"
   ]
  },
  {
   "cell_type": "markdown",
   "metadata": {},
   "source": [
    " *REMARKS*  \n",
    " \n",
    " 1-I already did some scaling above so I will use it and put it in a pipeline  \n",
    " 2- We can drop the ID  \n",
    " 3- No sure if explicit has a big impact  \n",
    " 4- will remove oultiers in duration  \n",
    " \n"
   ]
  },
  {
   "cell_type": "code",
   "execution_count": 269,
   "metadata": {},
   "outputs": [],
   "source": [
    "# 👉 Do not hesitate to reload a clean new dataset if you need a fresh start.\n",
    "\n",
    "X = data.drop(['popularity','id','name'], axis=1)\n",
    "X.release_date=X.release_date.apply(lambda x: int(str(x)[:4]))\n",
    "y = data['popularity']"
   ]
  },
  {
   "cell_type": "code",
   "execution_count": 270,
   "metadata": {
    "slideshow": {
     "slide_type": "-"
    }
   },
   "outputs": [],
   "source": [
    "# We are giving you below a custom transformer that you may want to use in your pipeline (make sure you understanding it)\n",
    "\n",
    "from sklearn.base import BaseEstimator, TransformerMixin\n",
    "\n",
    "class ArtistPopularityTransformer(BaseEstimator, TransformerMixin):\n",
    "    \"\"\"\n",
    "    Compute, as a new feature of the test set, the mean popularity of \n",
    "    all songs made by the artist on the train set.\n",
    "    \"\"\"\n",
    "\n",
    "    def __init__(self):\n",
    "        pass\n",
    "\n",
    "    def fit(self, X, y=None):\n",
    "        \"\"\"\n",
    "        process artist mean popularity from artists songs popularity\n",
    "        process song global mean popularity\n",
    "        \"\"\"\n",
    "\n",
    "        # process artist popularity\n",
    "        self.artist_popularity = y.groupby(X.artist).agg(\"mean\")\n",
    "        self.artist_popularity.name = \"artist_popularity\"\n",
    "\n",
    "        # process mean popularity\n",
    "        self.mean_popularity = y.mean()\n",
    "\n",
    "        return self\n",
    "\n",
    "    def transform(self, X, y=None):\n",
    "        \"\"\"\n",
    "        apply artist mean popularity vs song global mean popularity to songs\n",
    "        \"\"\"\n",
    "\n",
    "        # inject artist popularity\n",
    "        X_copy = X.merge(self.artist_popularity, how=\"left\", left_on=\"artist\", right_index=True)\n",
    "\n",
    "        # fills popularity of unknown artists with song global mean popularity\n",
    "        X_copy.replace(np.nan, self.mean_popularity, inplace=True)\n",
    "\n",
    "        return X_copy[[\"artist_popularity\"]]"
   ]
  },
  {
   "cell_type": "code",
   "execution_count": 271,
   "metadata": {},
   "outputs": [],
   "source": [
    "\n",
    "artist_transfo = ArtistPopularityTransformer()\n"
   ]
  },
  {
   "cell_type": "code",
   "execution_count": 272,
   "metadata": {},
   "outputs": [],
   "source": [
    "# I know we need a feature union but I ma wasting too much time trying to make it so I add\n",
    "#this column manually and drop artists\n",
    "result=artist_transfo.fit_transform(X,y)\n"
   ]
  },
  {
   "cell_type": "code",
   "execution_count": 273,
   "metadata": {},
   "outputs": [],
   "source": [
    "X['artist_popularity']=result"
   ]
  },
  {
   "cell_type": "code",
   "execution_count": 274,
   "metadata": {},
   "outputs": [],
   "source": [
    "X = X.drop(['artist'], axis=1)"
   ]
  },
  {
   "cell_type": "code",
   "execution_count": 275,
   "metadata": {},
   "outputs": [
    {
     "data": {
      "text/html": [
       "<div>\n",
       "<style scoped>\n",
       "    .dataframe tbody tr th:only-of-type {\n",
       "        vertical-align: middle;\n",
       "    }\n",
       "\n",
       "    .dataframe tbody tr th {\n",
       "        vertical-align: top;\n",
       "    }\n",
       "\n",
       "    .dataframe thead th {\n",
       "        text-align: right;\n",
       "    }\n",
       "</style>\n",
       "<table border=\"1\" class=\"dataframe\">\n",
       "  <thead>\n",
       "    <tr style=\"text-align: right;\">\n",
       "      <th></th>\n",
       "      <th>acousticness</th>\n",
       "      <th>danceability</th>\n",
       "      <th>duration_ms</th>\n",
       "      <th>energy</th>\n",
       "      <th>explicit</th>\n",
       "      <th>instrumentalness</th>\n",
       "      <th>key</th>\n",
       "      <th>liveness</th>\n",
       "      <th>loudness</th>\n",
       "      <th>mode</th>\n",
       "      <th>release_date</th>\n",
       "      <th>speechiness</th>\n",
       "      <th>tempo</th>\n",
       "      <th>valence</th>\n",
       "      <th>artist_popularity</th>\n",
       "    </tr>\n",
       "  </thead>\n",
       "  <tbody>\n",
       "    <tr>\n",
       "      <th>0</th>\n",
       "      <td>0.65400</td>\n",
       "      <td>0.499</td>\n",
       "      <td>219827</td>\n",
       "      <td>0.190</td>\n",
       "      <td>0</td>\n",
       "      <td>0.004090</td>\n",
       "      <td>7</td>\n",
       "      <td>0.0898</td>\n",
       "      <td>-16.435</td>\n",
       "      <td>1</td>\n",
       "      <td>1971</td>\n",
       "      <td>0.0454</td>\n",
       "      <td>149.460</td>\n",
       "      <td>0.4300</td>\n",
       "      <td>35.000000</td>\n",
       "    </tr>\n",
       "    <tr>\n",
       "      <th>1</th>\n",
       "      <td>0.00592</td>\n",
       "      <td>0.439</td>\n",
       "      <td>483948</td>\n",
       "      <td>0.808</td>\n",
       "      <td>0</td>\n",
       "      <td>0.140000</td>\n",
       "      <td>2</td>\n",
       "      <td>0.0890</td>\n",
       "      <td>-8.497</td>\n",
       "      <td>1</td>\n",
       "      <td>2015</td>\n",
       "      <td>0.0677</td>\n",
       "      <td>138.040</td>\n",
       "      <td>0.0587</td>\n",
       "      <td>10.000000</td>\n",
       "    </tr>\n",
       "    <tr>\n",
       "      <th>2</th>\n",
       "      <td>0.73400</td>\n",
       "      <td>0.523</td>\n",
       "      <td>245693</td>\n",
       "      <td>0.288</td>\n",
       "      <td>0</td>\n",
       "      <td>0.000000</td>\n",
       "      <td>0</td>\n",
       "      <td>0.0771</td>\n",
       "      <td>-11.506</td>\n",
       "      <td>1</td>\n",
       "      <td>1968</td>\n",
       "      <td>0.2140</td>\n",
       "      <td>75.869</td>\n",
       "      <td>0.4640</td>\n",
       "      <td>34.333333</td>\n",
       "    </tr>\n",
       "    <tr>\n",
       "      <th>3</th>\n",
       "      <td>0.42900</td>\n",
       "      <td>0.681</td>\n",
       "      <td>130026</td>\n",
       "      <td>0.165</td>\n",
       "      <td>0</td>\n",
       "      <td>0.000000</td>\n",
       "      <td>11</td>\n",
       "      <td>0.3940</td>\n",
       "      <td>-21.457</td>\n",
       "      <td>0</td>\n",
       "      <td>1926</td>\n",
       "      <td>0.9460</td>\n",
       "      <td>145.333</td>\n",
       "      <td>0.2880</td>\n",
       "      <td>3.770732</td>\n",
       "    </tr>\n",
       "    <tr>\n",
       "      <th>4</th>\n",
       "      <td>0.56200</td>\n",
       "      <td>0.543</td>\n",
       "      <td>129813</td>\n",
       "      <td>0.575</td>\n",
       "      <td>0</td>\n",
       "      <td>0.000004</td>\n",
       "      <td>2</td>\n",
       "      <td>0.1270</td>\n",
       "      <td>-7.374</td>\n",
       "      <td>1</td>\n",
       "      <td>2008</td>\n",
       "      <td>0.0265</td>\n",
       "      <td>139.272</td>\n",
       "      <td>0.8010</td>\n",
       "      <td>13.296296</td>\n",
       "    </tr>\n",
       "    <tr>\n",
       "      <th>...</th>\n",
       "      <td>...</td>\n",
       "      <td>...</td>\n",
       "      <td>...</td>\n",
       "      <td>...</td>\n",
       "      <td>...</td>\n",
       "      <td>...</td>\n",
       "      <td>...</td>\n",
       "      <td>...</td>\n",
       "      <td>...</td>\n",
       "      <td>...</td>\n",
       "      <td>...</td>\n",
       "      <td>...</td>\n",
       "      <td>...</td>\n",
       "      <td>...</td>\n",
       "      <td>...</td>\n",
       "    </tr>\n",
       "    <tr>\n",
       "      <th>52312</th>\n",
       "      <td>0.16400</td>\n",
       "      <td>0.512</td>\n",
       "      <td>56253</td>\n",
       "      <td>0.907</td>\n",
       "      <td>0</td>\n",
       "      <td>0.004870</td>\n",
       "      <td>6</td>\n",
       "      <td>0.8010</td>\n",
       "      <td>-7.804</td>\n",
       "      <td>1</td>\n",
       "      <td>1977</td>\n",
       "      <td>0.6620</td>\n",
       "      <td>85.615</td>\n",
       "      <td>0.3150</td>\n",
       "      <td>25.000000</td>\n",
       "    </tr>\n",
       "    <tr>\n",
       "      <th>52313</th>\n",
       "      <td>0.77300</td>\n",
       "      <td>0.533</td>\n",
       "      <td>192838</td>\n",
       "      <td>0.659</td>\n",
       "      <td>0</td>\n",
       "      <td>0.773000</td>\n",
       "      <td>2</td>\n",
       "      <td>0.1130</td>\n",
       "      <td>-9.117</td>\n",
       "      <td>0</td>\n",
       "      <td>1965</td>\n",
       "      <td>0.0426</td>\n",
       "      <td>158.366</td>\n",
       "      <td>0.6140</td>\n",
       "      <td>28.750000</td>\n",
       "    </tr>\n",
       "    <tr>\n",
       "      <th>52314</th>\n",
       "      <td>0.45600</td>\n",
       "      <td>0.548</td>\n",
       "      <td>310840</td>\n",
       "      <td>0.568</td>\n",
       "      <td>0</td>\n",
       "      <td>0.000000</td>\n",
       "      <td>6</td>\n",
       "      <td>0.0892</td>\n",
       "      <td>-5.348</td>\n",
       "      <td>1</td>\n",
       "      <td>2020</td>\n",
       "      <td>0.0275</td>\n",
       "      <td>77.495</td>\n",
       "      <td>0.3380</td>\n",
       "      <td>0.000000</td>\n",
       "    </tr>\n",
       "    <tr>\n",
       "      <th>52315</th>\n",
       "      <td>0.96500</td>\n",
       "      <td>0.360</td>\n",
       "      <td>216493</td>\n",
       "      <td>0.132</td>\n",
       "      <td>0</td>\n",
       "      <td>0.000000</td>\n",
       "      <td>10</td>\n",
       "      <td>0.1260</td>\n",
       "      <td>-21.014</td>\n",
       "      <td>1</td>\n",
       "      <td>1952</td>\n",
       "      <td>0.0355</td>\n",
       "      <td>80.909</td>\n",
       "      <td>0.4100</td>\n",
       "      <td>0.578947</td>\n",
       "    </tr>\n",
       "    <tr>\n",
       "      <th>52316</th>\n",
       "      <td>0.54300</td>\n",
       "      <td>0.825</td>\n",
       "      <td>218573</td>\n",
       "      <td>0.294</td>\n",
       "      <td>0</td>\n",
       "      <td>0.001300</td>\n",
       "      <td>6</td>\n",
       "      <td>0.1270</td>\n",
       "      <td>-15.083</td>\n",
       "      <td>0</td>\n",
       "      <td>1993</td>\n",
       "      <td>0.0318</td>\n",
       "      <td>99.228</td>\n",
       "      <td>0.6700</td>\n",
       "      <td>39.700000</td>\n",
       "    </tr>\n",
       "  </tbody>\n",
       "</table>\n",
       "<p>52053 rows × 15 columns</p>\n",
       "</div>"
      ],
      "text/plain": [
       "       acousticness  danceability  duration_ms  energy  explicit  \\\n",
       "0           0.65400         0.499       219827   0.190         0   \n",
       "1           0.00592         0.439       483948   0.808         0   \n",
       "2           0.73400         0.523       245693   0.288         0   \n",
       "3           0.42900         0.681       130026   0.165         0   \n",
       "4           0.56200         0.543       129813   0.575         0   \n",
       "...             ...           ...          ...     ...       ...   \n",
       "52312       0.16400         0.512        56253   0.907         0   \n",
       "52313       0.77300         0.533       192838   0.659         0   \n",
       "52314       0.45600         0.548       310840   0.568         0   \n",
       "52315       0.96500         0.360       216493   0.132         0   \n",
       "52316       0.54300         0.825       218573   0.294         0   \n",
       "\n",
       "       instrumentalness  key  liveness  loudness  mode  release_date  \\\n",
       "0              0.004090    7    0.0898   -16.435     1          1971   \n",
       "1              0.140000    2    0.0890    -8.497     1          2015   \n",
       "2              0.000000    0    0.0771   -11.506     1          1968   \n",
       "3              0.000000   11    0.3940   -21.457     0          1926   \n",
       "4              0.000004    2    0.1270    -7.374     1          2008   \n",
       "...                 ...  ...       ...       ...   ...           ...   \n",
       "52312          0.004870    6    0.8010    -7.804     1          1977   \n",
       "52313          0.773000    2    0.1130    -9.117     0          1965   \n",
       "52314          0.000000    6    0.0892    -5.348     1          2020   \n",
       "52315          0.000000   10    0.1260   -21.014     1          1952   \n",
       "52316          0.001300    6    0.1270   -15.083     0          1993   \n",
       "\n",
       "       speechiness    tempo  valence  artist_popularity  \n",
       "0           0.0454  149.460   0.4300          35.000000  \n",
       "1           0.0677  138.040   0.0587          10.000000  \n",
       "2           0.2140   75.869   0.4640          34.333333  \n",
       "3           0.9460  145.333   0.2880           3.770732  \n",
       "4           0.0265  139.272   0.8010          13.296296  \n",
       "...            ...      ...      ...                ...  \n",
       "52312       0.6620   85.615   0.3150          25.000000  \n",
       "52313       0.0426  158.366   0.6140          28.750000  \n",
       "52314       0.0275   77.495   0.3380           0.000000  \n",
       "52315       0.0355   80.909   0.4100           0.578947  \n",
       "52316       0.0318   99.228   0.6700          39.700000  \n",
       "\n",
       "[52053 rows x 15 columns]"
      ]
     },
     "execution_count": 275,
     "metadata": {},
     "output_type": "execute_result"
    }
   ],
   "source": [
    "X"
   ]
  },
  {
   "cell_type": "code",
   "execution_count": 276,
   "metadata": {},
   "outputs": [],
   "source": [
    "from sklearn.pipeline import Pipeline\n",
    "from sklearn.preprocessing import StandardScaler, RobustScaler\n",
    "from sklearn.preprocessing import OneHotEncoder\n",
    "from sklearn.compose import ColumnTransformer\n",
    "from sklearn.preprocessing import FunctionTransformer\n",
    "\n",
    "# Standard Scale: \n",
    "standard_transformer  = Pipeline([\n",
    "    ('Standard_Scaler', StandardScaler())\n",
    "])\n",
    "\n",
    "# Robust Scale: \n",
    "robust_transformer  = Pipeline([\n",
    "    ('Robust_Scaler', RobustScaler())\n",
    "])\n",
    "\n",
    "# Encode categorical variables\n",
    "cat_transformer = OneHotEncoder(handle_unknown='ignore',sparse=False)\n",
    "\n",
    "#year transfromation pipe , i tried, it did not work so i am doing it manualy at the beginning\n",
    "#year_transfo = FunctionTransformer(lambda x: int(str(x)[:4]))\n",
    "#year_pipe= Pipeline([\n",
    "#     ('year_transfo', year_transfo),\n",
    "#     ('Standard_Scaler', StandardScaler())\n",
    "# ])\n",
    "\n",
    "# Paralellize \"num_transformer\" and \"One hot encoder\"\n",
    "preproc = ColumnTransformer([\n",
    "    ('standard_transformer', standard_transformer, ['loudness','tempo']),\n",
    "    ('robust_transformer', robust_transformer, ['duration_ms','release_date','artist_popularity']),\n",
    "    ('cat_transformer', cat_transformer, ['key']),],\n",
    "    remainder='passthrough')\n"
   ]
  },
  {
   "cell_type": "code",
   "execution_count": 277,
   "metadata": {},
   "outputs": [
    {
     "data": {
      "text/html": [
       "<div>\n",
       "<style scoped>\n",
       "    .dataframe tbody tr th:only-of-type {\n",
       "        vertical-align: middle;\n",
       "    }\n",
       "\n",
       "    .dataframe tbody tr th {\n",
       "        vertical-align: top;\n",
       "    }\n",
       "\n",
       "    .dataframe thead th {\n",
       "        text-align: right;\n",
       "    }\n",
       "</style>\n",
       "<table border=\"1\" class=\"dataframe\">\n",
       "  <thead>\n",
       "    <tr style=\"text-align: right;\">\n",
       "      <th></th>\n",
       "      <th>0</th>\n",
       "      <th>1</th>\n",
       "      <th>2</th>\n",
       "      <th>3</th>\n",
       "      <th>4</th>\n",
       "      <th>5</th>\n",
       "      <th>6</th>\n",
       "      <th>7</th>\n",
       "      <th>8</th>\n",
       "      <th>9</th>\n",
       "      <th>...</th>\n",
       "      <th>16</th>\n",
       "      <th>17</th>\n",
       "      <th>18</th>\n",
       "      <th>19</th>\n",
       "      <th>20</th>\n",
       "      <th>21</th>\n",
       "      <th>22</th>\n",
       "      <th>23</th>\n",
       "      <th>24</th>\n",
       "      <th>25</th>\n",
       "    </tr>\n",
       "  </thead>\n",
       "  <tbody>\n",
       "    <tr>\n",
       "      <th>0</th>\n",
       "      <td>-0.823320</td>\n",
       "      <td>1.069938</td>\n",
       "      <td>0.136339</td>\n",
       "      <td>-0.136364</td>\n",
       "      <td>0.191824</td>\n",
       "      <td>0.0</td>\n",
       "      <td>0.0</td>\n",
       "      <td>0.0</td>\n",
       "      <td>0.0</td>\n",
       "      <td>0.0</td>\n",
       "      <td>...</td>\n",
       "      <td>0.0</td>\n",
       "      <td>0.65400</td>\n",
       "      <td>0.499</td>\n",
       "      <td>0.190</td>\n",
       "      <td>0.0</td>\n",
       "      <td>0.004090</td>\n",
       "      <td>0.0898</td>\n",
       "      <td>1.0</td>\n",
       "      <td>0.0454</td>\n",
       "      <td>0.4300</td>\n",
       "    </tr>\n",
       "    <tr>\n",
       "      <th>1</th>\n",
       "      <td>0.570288</td>\n",
       "      <td>0.692617</td>\n",
       "      <td>2.781411</td>\n",
       "      <td>0.863636</td>\n",
       "      <td>-0.516252</td>\n",
       "      <td>0.0</td>\n",
       "      <td>0.0</td>\n",
       "      <td>1.0</td>\n",
       "      <td>0.0</td>\n",
       "      <td>0.0</td>\n",
       "      <td>...</td>\n",
       "      <td>0.0</td>\n",
       "      <td>0.00592</td>\n",
       "      <td>0.439</td>\n",
       "      <td>0.808</td>\n",
       "      <td>0.0</td>\n",
       "      <td>0.140000</td>\n",
       "      <td>0.0890</td>\n",
       "      <td>1.0</td>\n",
       "      <td>0.0677</td>\n",
       "      <td>0.0587</td>\n",
       "    </tr>\n",
       "    <tr>\n",
       "      <th>2</th>\n",
       "      <td>0.042023</td>\n",
       "      <td>-1.361536</td>\n",
       "      <td>0.395377</td>\n",
       "      <td>-0.204545</td>\n",
       "      <td>0.172942</td>\n",
       "      <td>1.0</td>\n",
       "      <td>0.0</td>\n",
       "      <td>0.0</td>\n",
       "      <td>0.0</td>\n",
       "      <td>0.0</td>\n",
       "      <td>...</td>\n",
       "      <td>0.0</td>\n",
       "      <td>0.73400</td>\n",
       "      <td>0.523</td>\n",
       "      <td>0.288</td>\n",
       "      <td>0.0</td>\n",
       "      <td>0.000000</td>\n",
       "      <td>0.0771</td>\n",
       "      <td>1.0</td>\n",
       "      <td>0.2140</td>\n",
       "      <td>0.4640</td>\n",
       "    </tr>\n",
       "    <tr>\n",
       "      <th>3</th>\n",
       "      <td>-1.704990</td>\n",
       "      <td>0.933581</td>\n",
       "      <td>-0.762984</td>\n",
       "      <td>-1.159091</td>\n",
       "      <td>-0.692684</td>\n",
       "      <td>0.0</td>\n",
       "      <td>0.0</td>\n",
       "      <td>0.0</td>\n",
       "      <td>0.0</td>\n",
       "      <td>0.0</td>\n",
       "      <td>...</td>\n",
       "      <td>1.0</td>\n",
       "      <td>0.42900</td>\n",
       "      <td>0.681</td>\n",
       "      <td>0.165</td>\n",
       "      <td>0.0</td>\n",
       "      <td>0.000000</td>\n",
       "      <td>0.3940</td>\n",
       "      <td>0.0</td>\n",
       "      <td>0.9460</td>\n",
       "      <td>0.2880</td>\n",
       "    </tr>\n",
       "    <tr>\n",
       "      <th>4</th>\n",
       "      <td>0.767444</td>\n",
       "      <td>0.733323</td>\n",
       "      <td>-0.765117</td>\n",
       "      <td>0.704545</td>\n",
       "      <td>-0.422891</td>\n",
       "      <td>0.0</td>\n",
       "      <td>0.0</td>\n",
       "      <td>1.0</td>\n",
       "      <td>0.0</td>\n",
       "      <td>0.0</td>\n",
       "      <td>...</td>\n",
       "      <td>0.0</td>\n",
       "      <td>0.56200</td>\n",
       "      <td>0.543</td>\n",
       "      <td>0.575</td>\n",
       "      <td>0.0</td>\n",
       "      <td>0.000004</td>\n",
       "      <td>0.1270</td>\n",
       "      <td>1.0</td>\n",
       "      <td>0.0265</td>\n",
       "      <td>0.8010</td>\n",
       "    </tr>\n",
       "    <tr>\n",
       "      <th>...</th>\n",
       "      <td>...</td>\n",
       "      <td>...</td>\n",
       "      <td>...</td>\n",
       "      <td>...</td>\n",
       "      <td>...</td>\n",
       "      <td>...</td>\n",
       "      <td>...</td>\n",
       "      <td>...</td>\n",
       "      <td>...</td>\n",
       "      <td>...</td>\n",
       "      <td>...</td>\n",
       "      <td>...</td>\n",
       "      <td>...</td>\n",
       "      <td>...</td>\n",
       "      <td>...</td>\n",
       "      <td>...</td>\n",
       "      <td>...</td>\n",
       "      <td>...</td>\n",
       "      <td>...</td>\n",
       "      <td>...</td>\n",
       "      <td>...</td>\n",
       "    </tr>\n",
       "    <tr>\n",
       "      <th>52048</th>\n",
       "      <td>0.691952</td>\n",
       "      <td>-1.039525</td>\n",
       "      <td>-1.501793</td>\n",
       "      <td>0.000000</td>\n",
       "      <td>-0.091406</td>\n",
       "      <td>0.0</td>\n",
       "      <td>0.0</td>\n",
       "      <td>0.0</td>\n",
       "      <td>0.0</td>\n",
       "      <td>0.0</td>\n",
       "      <td>...</td>\n",
       "      <td>0.0</td>\n",
       "      <td>0.16400</td>\n",
       "      <td>0.512</td>\n",
       "      <td>0.907</td>\n",
       "      <td>0.0</td>\n",
       "      <td>0.004870</td>\n",
       "      <td>0.8010</td>\n",
       "      <td>1.0</td>\n",
       "      <td>0.6620</td>\n",
       "      <td>0.3150</td>\n",
       "    </tr>\n",
       "    <tr>\n",
       "      <th>52049</th>\n",
       "      <td>0.461440</td>\n",
       "      <td>1.364196</td>\n",
       "      <td>-0.133946</td>\n",
       "      <td>-0.272727</td>\n",
       "      <td>0.014805</td>\n",
       "      <td>0.0</td>\n",
       "      <td>0.0</td>\n",
       "      <td>1.0</td>\n",
       "      <td>0.0</td>\n",
       "      <td>0.0</td>\n",
       "      <td>...</td>\n",
       "      <td>0.0</td>\n",
       "      <td>0.77300</td>\n",
       "      <td>0.533</td>\n",
       "      <td>0.659</td>\n",
       "      <td>0.0</td>\n",
       "      <td>0.773000</td>\n",
       "      <td>0.1130</td>\n",
       "      <td>0.0</td>\n",
       "      <td>0.0426</td>\n",
       "      <td>0.6140</td>\n",
       "    </tr>\n",
       "    <tr>\n",
       "      <th>52050</th>\n",
       "      <td>1.123132</td>\n",
       "      <td>-1.307813</td>\n",
       "      <td>1.047800</td>\n",
       "      <td>0.977273</td>\n",
       "      <td>-0.799482</td>\n",
       "      <td>0.0</td>\n",
       "      <td>0.0</td>\n",
       "      <td>0.0</td>\n",
       "      <td>0.0</td>\n",
       "      <td>0.0</td>\n",
       "      <td>...</td>\n",
       "      <td>0.0</td>\n",
       "      <td>0.45600</td>\n",
       "      <td>0.548</td>\n",
       "      <td>0.568</td>\n",
       "      <td>0.0</td>\n",
       "      <td>0.000000</td>\n",
       "      <td>0.0892</td>\n",
       "      <td>1.0</td>\n",
       "      <td>0.0275</td>\n",
       "      <td>0.3380</td>\n",
       "    </tr>\n",
       "    <tr>\n",
       "      <th>52051</th>\n",
       "      <td>-1.627217</td>\n",
       "      <td>-1.195013</td>\n",
       "      <td>0.102950</td>\n",
       "      <td>-0.568182</td>\n",
       "      <td>-0.783085</td>\n",
       "      <td>0.0</td>\n",
       "      <td>0.0</td>\n",
       "      <td>0.0</td>\n",
       "      <td>0.0</td>\n",
       "      <td>0.0</td>\n",
       "      <td>...</td>\n",
       "      <td>0.0</td>\n",
       "      <td>0.96500</td>\n",
       "      <td>0.360</td>\n",
       "      <td>0.132</td>\n",
       "      <td>0.0</td>\n",
       "      <td>0.000000</td>\n",
       "      <td>0.1260</td>\n",
       "      <td>1.0</td>\n",
       "      <td>0.0355</td>\n",
       "      <td>0.4100</td>\n",
       "    </tr>\n",
       "    <tr>\n",
       "      <th>52052</th>\n",
       "      <td>-0.585961</td>\n",
       "      <td>-0.589746</td>\n",
       "      <td>0.123781</td>\n",
       "      <td>0.363636</td>\n",
       "      <td>0.324943</td>\n",
       "      <td>0.0</td>\n",
       "      <td>0.0</td>\n",
       "      <td>0.0</td>\n",
       "      <td>0.0</td>\n",
       "      <td>0.0</td>\n",
       "      <td>...</td>\n",
       "      <td>0.0</td>\n",
       "      <td>0.54300</td>\n",
       "      <td>0.825</td>\n",
       "      <td>0.294</td>\n",
       "      <td>0.0</td>\n",
       "      <td>0.001300</td>\n",
       "      <td>0.1270</td>\n",
       "      <td>0.0</td>\n",
       "      <td>0.0318</td>\n",
       "      <td>0.6700</td>\n",
       "    </tr>\n",
       "  </tbody>\n",
       "</table>\n",
       "<p>52053 rows × 26 columns</p>\n",
       "</div>"
      ],
      "text/plain": [
       "             0         1         2         3         4    5    6    7    8   \\\n",
       "0     -0.823320  1.069938  0.136339 -0.136364  0.191824  0.0  0.0  0.0  0.0   \n",
       "1      0.570288  0.692617  2.781411  0.863636 -0.516252  0.0  0.0  1.0  0.0   \n",
       "2      0.042023 -1.361536  0.395377 -0.204545  0.172942  1.0  0.0  0.0  0.0   \n",
       "3     -1.704990  0.933581 -0.762984 -1.159091 -0.692684  0.0  0.0  0.0  0.0   \n",
       "4      0.767444  0.733323 -0.765117  0.704545 -0.422891  0.0  0.0  1.0  0.0   \n",
       "...         ...       ...       ...       ...       ...  ...  ...  ...  ...   \n",
       "52048  0.691952 -1.039525 -1.501793  0.000000 -0.091406  0.0  0.0  0.0  0.0   \n",
       "52049  0.461440  1.364196 -0.133946 -0.272727  0.014805  0.0  0.0  1.0  0.0   \n",
       "52050  1.123132 -1.307813  1.047800  0.977273 -0.799482  0.0  0.0  0.0  0.0   \n",
       "52051 -1.627217 -1.195013  0.102950 -0.568182 -0.783085  0.0  0.0  0.0  0.0   \n",
       "52052 -0.585961 -0.589746  0.123781  0.363636  0.324943  0.0  0.0  0.0  0.0   \n",
       "\n",
       "        9   ...   16       17     18     19   20        21      22   23  \\\n",
       "0      0.0  ...  0.0  0.65400  0.499  0.190  0.0  0.004090  0.0898  1.0   \n",
       "1      0.0  ...  0.0  0.00592  0.439  0.808  0.0  0.140000  0.0890  1.0   \n",
       "2      0.0  ...  0.0  0.73400  0.523  0.288  0.0  0.000000  0.0771  1.0   \n",
       "3      0.0  ...  1.0  0.42900  0.681  0.165  0.0  0.000000  0.3940  0.0   \n",
       "4      0.0  ...  0.0  0.56200  0.543  0.575  0.0  0.000004  0.1270  1.0   \n",
       "...    ...  ...  ...      ...    ...    ...  ...       ...     ...  ...   \n",
       "52048  0.0  ...  0.0  0.16400  0.512  0.907  0.0  0.004870  0.8010  1.0   \n",
       "52049  0.0  ...  0.0  0.77300  0.533  0.659  0.0  0.773000  0.1130  0.0   \n",
       "52050  0.0  ...  0.0  0.45600  0.548  0.568  0.0  0.000000  0.0892  1.0   \n",
       "52051  0.0  ...  0.0  0.96500  0.360  0.132  0.0  0.000000  0.1260  1.0   \n",
       "52052  0.0  ...  0.0  0.54300  0.825  0.294  0.0  0.001300  0.1270  0.0   \n",
       "\n",
       "           24      25  \n",
       "0      0.0454  0.4300  \n",
       "1      0.0677  0.0587  \n",
       "2      0.2140  0.4640  \n",
       "3      0.9460  0.2880  \n",
       "4      0.0265  0.8010  \n",
       "...       ...     ...  \n",
       "52048  0.6620  0.3150  \n",
       "52049  0.0426  0.6140  \n",
       "52050  0.0275  0.3380  \n",
       "52051  0.0355  0.4100  \n",
       "52052  0.0318  0.6700  \n",
       "\n",
       "[52053 rows x 26 columns]"
      ]
     },
     "execution_count": 277,
     "metadata": {},
     "output_type": "execute_result"
    }
   ],
   "source": [
    "preproc.fit(X)\n",
    "pd.DataFrame(preproc.transform(X))"
   ]
  },
  {
   "cell_type": "code",
   "execution_count": 278,
   "metadata": {},
   "outputs": [],
   "source": [
    "from sklearn.pipeline import FeatureUnion"
   ]
  },
  {
   "cell_type": "code",
   "execution_count": 279,
   "metadata": {},
   "outputs": [],
   "source": [
    "# Create a new column for artist popularity\n",
    "\n",
    "#skipping it\n",
    "\n",
    "# artist_transformation=artist_transfo.fit_transform(X,y)\n",
    "# robust_transformer  = Pipeline([\n",
    "#     ('Robust_Scaler', artist_transformation,\n",
    "#     ('Robust_Scaler', RobustScaler())\n",
    "# ])\n",
    "\n",
    "# union = FeatureUnion([\n",
    "#     ('preprocess', preprocessor), # columns 0-8\n",
    "#     ('bmi_age_ratio', bmi_age_ratio_constructor) # new colums 9\n",
    "# ])"
   ]
  },
  {
   "cell_type": "markdown",
   "metadata": {},
   "source": [
    "**📝 Store the number of columns/feature after preprocessing your inputs in a variable `col_number`**"
   ]
  },
  {
   "cell_type": "code",
   "execution_count": 286,
   "metadata": {},
   "outputs": [
    {
     "data": {
      "text/plain": [
       "(52053, 15)"
      ]
     },
     "execution_count": 286,
     "metadata": {},
     "output_type": "execute_result"
    }
   ],
   "source": [
    "X.shape"
   ]
  },
  {
   "cell_type": "markdown",
   "metadata": {},
   "source": [
    "🧪 **Run the following cells to save your results**"
   ]
  },
  {
   "cell_type": "code",
   "execution_count": 288,
   "metadata": {},
   "outputs": [
    {
     "data": {
      "text/html": [
       "<style>div.sk-top-container {color: black;background-color: white;}div.sk-toggleable {background-color: white;}label.sk-toggleable__label {cursor: pointer;display: block;width: 100%;margin-bottom: 0;padding: 0.2em 0.3em;box-sizing: border-box;text-align: center;}div.sk-toggleable__content {max-height: 0;max-width: 0;overflow: hidden;text-align: left;background-color: #f0f8ff;}div.sk-toggleable__content pre {margin: 0.2em;color: black;border-radius: 0.25em;background-color: #f0f8ff;}input.sk-toggleable__control:checked~div.sk-toggleable__content {max-height: 200px;max-width: 100%;overflow: auto;}div.sk-estimator input.sk-toggleable__control:checked~label.sk-toggleable__label {background-color: #d4ebff;}div.sk-label input.sk-toggleable__control:checked~label.sk-toggleable__label {background-color: #d4ebff;}input.sk-hidden--visually {border: 0;clip: rect(1px 1px 1px 1px);clip: rect(1px, 1px, 1px, 1px);height: 1px;margin: -1px;overflow: hidden;padding: 0;position: absolute;width: 1px;}div.sk-estimator {font-family: monospace;background-color: #f0f8ff;margin: 0.25em 0.25em;border: 1px dotted black;border-radius: 0.25em;box-sizing: border-box;}div.sk-estimator:hover {background-color: #d4ebff;}div.sk-parallel-item::after {content: \"\";width: 100%;border-bottom: 1px solid gray;flex-grow: 1;}div.sk-label:hover label.sk-toggleable__label {background-color: #d4ebff;}div.sk-serial::before {content: \"\";position: absolute;border-left: 1px solid gray;box-sizing: border-box;top: 2em;bottom: 0;left: 50%;}div.sk-serial {display: flex;flex-direction: column;align-items: center;background-color: white;}div.sk-item {z-index: 1;}div.sk-parallel {display: flex;align-items: stretch;justify-content: center;background-color: white;}div.sk-parallel-item {display: flex;flex-direction: column;position: relative;background-color: white;}div.sk-parallel-item:first-child::after {align-self: flex-end;width: 50%;}div.sk-parallel-item:last-child::after {align-self: flex-start;width: 50%;}div.sk-parallel-item:only-child::after {width: 0;}div.sk-dashed-wrapped {border: 1px dashed gray;margin: 0.2em;box-sizing: border-box;padding-bottom: 0.1em;background-color: white;position: relative;}div.sk-label label {font-family: monospace;font-weight: bold;background-color: white;display: inline-block;line-height: 1.2em;}div.sk-label-container {position: relative;z-index: 2;text-align: center;}div.sk-container {display: inline-block;position: relative;}</style><div class=\"sk-top-container\"><div class=\"sk-container\"><div class=\"sk-item sk-dashed-wrapped\"><div class=\"sk-label-container\"><div class=\"sk-label sk-toggleable\"><input class=\"sk-toggleable__control sk-hidden--visually\" id=\"6d43eb35-8dea-4978-a5c8-19faa095b65f\" type=\"checkbox\" ><label class=\"sk-toggleable__label\" for=\"6d43eb35-8dea-4978-a5c8-19faa095b65f\">ColumnTransformer</label><div class=\"sk-toggleable__content\"><pre>ColumnTransformer(remainder='passthrough',\n",
       "                  transformers=[('standard_transformer',\n",
       "                                 Pipeline(steps=[('Standard_Scaler',\n",
       "                                                  StandardScaler())]),\n",
       "                                 ['loudness', 'tempo']),\n",
       "                                ('robust_transformer',\n",
       "                                 Pipeline(steps=[('Robust_Scaler',\n",
       "                                                  RobustScaler())]),\n",
       "                                 ['duration_ms', 'release_date',\n",
       "                                  'artist_popularity']),\n",
       "                                ('cat_transformer',\n",
       "                                 OneHotEncoder(handle_unknown='ignore',\n",
       "                                               sparse=False),\n",
       "                                 ['key'])])</pre></div></div></div><div class=\"sk-parallel\"><div class=\"sk-parallel-item\"><div class=\"sk-item\"><div class=\"sk-label-container\"><div class=\"sk-label sk-toggleable\"><input class=\"sk-toggleable__control sk-hidden--visually\" id=\"23d6a2dc-8d4d-4141-a50d-2036d9eaeaca\" type=\"checkbox\" ><label class=\"sk-toggleable__label\" for=\"23d6a2dc-8d4d-4141-a50d-2036d9eaeaca\">standard_transformer</label><div class=\"sk-toggleable__content\"><pre>['loudness', 'tempo']</pre></div></div></div><div class=\"sk-serial\"><div class=\"sk-item\"><div class=\"sk-serial\"><div class=\"sk-item\"><div class=\"sk-estimator sk-toggleable\"><input class=\"sk-toggleable__control sk-hidden--visually\" id=\"ebde00e5-6e2b-4b36-9a2c-54c6e5838c08\" type=\"checkbox\" ><label class=\"sk-toggleable__label\" for=\"ebde00e5-6e2b-4b36-9a2c-54c6e5838c08\">StandardScaler</label><div class=\"sk-toggleable__content\"><pre>StandardScaler()</pre></div></div></div></div></div></div></div></div><div class=\"sk-parallel-item\"><div class=\"sk-item\"><div class=\"sk-label-container\"><div class=\"sk-label sk-toggleable\"><input class=\"sk-toggleable__control sk-hidden--visually\" id=\"3ecac4c2-7f53-4b04-b952-66cfe327e8de\" type=\"checkbox\" ><label class=\"sk-toggleable__label\" for=\"3ecac4c2-7f53-4b04-b952-66cfe327e8de\">robust_transformer</label><div class=\"sk-toggleable__content\"><pre>['duration_ms', 'release_date', 'artist_popularity']</pre></div></div></div><div class=\"sk-serial\"><div class=\"sk-item\"><div class=\"sk-serial\"><div class=\"sk-item\"><div class=\"sk-estimator sk-toggleable\"><input class=\"sk-toggleable__control sk-hidden--visually\" id=\"585cf239-9c8d-4255-90bc-587accd228a0\" type=\"checkbox\" ><label class=\"sk-toggleable__label\" for=\"585cf239-9c8d-4255-90bc-587accd228a0\">RobustScaler</label><div class=\"sk-toggleable__content\"><pre>RobustScaler()</pre></div></div></div></div></div></div></div></div><div class=\"sk-parallel-item\"><div class=\"sk-item\"><div class=\"sk-label-container\"><div class=\"sk-label sk-toggleable\"><input class=\"sk-toggleable__control sk-hidden--visually\" id=\"1ea40029-a67d-4184-a6b6-c95c24941b8d\" type=\"checkbox\" ><label class=\"sk-toggleable__label\" for=\"1ea40029-a67d-4184-a6b6-c95c24941b8d\">cat_transformer</label><div class=\"sk-toggleable__content\"><pre>['key']</pre></div></div></div><div class=\"sk-serial\"><div class=\"sk-item\"><div class=\"sk-estimator sk-toggleable\"><input class=\"sk-toggleable__control sk-hidden--visually\" id=\"825886f4-2433-4965-bdfd-c63fee02bbd5\" type=\"checkbox\" ><label class=\"sk-toggleable__label\" for=\"825886f4-2433-4965-bdfd-c63fee02bbd5\">OneHotEncoder</label><div class=\"sk-toggleable__content\"><pre>OneHotEncoder(handle_unknown='ignore', sparse=False)</pre></div></div></div></div></div></div><div class=\"sk-parallel-item\"><div class=\"sk-item\"><div class=\"sk-label-container\"><div class=\"sk-label sk-toggleable\"><input class=\"sk-toggleable__control sk-hidden--visually\" id=\"d9f60135-64c0-4981-9fb9-7489fb5904ed\" type=\"checkbox\" ><label class=\"sk-toggleable__label\" for=\"d9f60135-64c0-4981-9fb9-7489fb5904ed\">remainder</label><div class=\"sk-toggleable__content\"><pre>['acousticness', 'danceability', 'energy', 'explicit', 'instrumentalness', 'liveness', 'mode', 'speechiness', 'valence']</pre></div></div></div><div class=\"sk-serial\"><div class=\"sk-item\"><div class=\"sk-estimator sk-toggleable\"><input class=\"sk-toggleable__control sk-hidden--visually\" id=\"f408f1af-c55f-41c2-a742-10004125fd9c\" type=\"checkbox\" ><label class=\"sk-toggleable__label\" for=\"f408f1af-c55f-41c2-a742-10004125fd9c\">passthrough</label><div class=\"sk-toggleable__content\"><pre>passthrough</pre></div></div></div></div></div></div></div></div></div></div>"
      ],
      "text/plain": [
       "ColumnTransformer(remainder='passthrough',\n",
       "                  transformers=[('standard_transformer',\n",
       "                                 Pipeline(steps=[('Standard_Scaler',\n",
       "                                                  StandardScaler())]),\n",
       "                                 ['loudness', 'tempo']),\n",
       "                                ('robust_transformer',\n",
       "                                 Pipeline(steps=[('Robust_Scaler',\n",
       "                                                  RobustScaler())]),\n",
       "                                 ['duration_ms', 'release_date',\n",
       "                                  'artist_popularity']),\n",
       "                                ('cat_transformer',\n",
       "                                 OneHotEncoder(handle_unknown='ignore',\n",
       "                                               sparse=False),\n",
       "                                 ['key'])])"
      ]
     },
     "execution_count": 288,
     "metadata": {},
     "output_type": "execute_result"
    }
   ],
   "source": [
    "# Visually print your preproc\n",
    "from sklearn import set_config; set_config(display='diagram')\n",
    "preproc"
   ]
  },
  {
   "cell_type": "code",
   "execution_count": 289,
   "metadata": {},
   "outputs": [],
   "source": [
    "# Save your preproc\n",
    "from nbresult import ChallengeResult\n",
    "\n",
    "ChallengeResult(\n",
    "    \"preprocessing\",\n",
    "    col_number=col_number,\n",
    "    first_observation = preproc.fit_transform(X, y)[0]\n",
    ").write()"
   ]
  },
  {
   "cell_type": "markdown",
   "metadata": {},
   "source": [
    "## Training\n",
    "\n",
    "📝 **Time to fine tune your models**\n",
    "\n",
    "- Add an **estimator** to your pipeline (only from Scikit-learn) \n",
    "\n",
    "- Train your pipeline and **fine-tune** (optimize) your estimator to maximize prediction score\n",
    "\n",
    "- You must try to fine tune at least 2 different models: \n",
    "    - create one pipeline with a **linear model** of your choice\n",
    "    - create one pipeline with an **ensemble model** of your choice\n",
    "\n",
    "Then, \n",
    "\n",
    "- Save your two best 5-time cross-validated scores as _float_: `score_linear` and `score_ensemble`\n",
    "\n",
    "- Save your two best trained pipelines as _Pipeline_ objects: `pipe_linear` and `pipe_ensemble`"
   ]
  },
  {
   "cell_type": "markdown",
   "metadata": {
    "slideshow": {
     "slide_type": "-"
    }
   },
   "source": [
    "### Linear"
   ]
  },
  {
   "cell_type": "code",
   "execution_count": 322,
   "metadata": {},
   "outputs": [],
   "source": [
    "X_train, X_test, y_train, y_test = train_test_split(X, y, test_size=0.3)"
   ]
  },
  {
   "cell_type": "code",
   "execution_count": 323,
   "metadata": {},
   "outputs": [],
   "source": [
    "from sklearn.linear_model import Ridge\n",
    "from sklearn.model_selection import cross_val_score"
   ]
  },
  {
   "cell_type": "code",
   "execution_count": 352,
   "metadata": {},
   "outputs": [
    {
     "data": {
      "text/html": [
       "<style>div.sk-top-container {color: black;background-color: white;}div.sk-toggleable {background-color: white;}label.sk-toggleable__label {cursor: pointer;display: block;width: 100%;margin-bottom: 0;padding: 0.2em 0.3em;box-sizing: border-box;text-align: center;}div.sk-toggleable__content {max-height: 0;max-width: 0;overflow: hidden;text-align: left;background-color: #f0f8ff;}div.sk-toggleable__content pre {margin: 0.2em;color: black;border-radius: 0.25em;background-color: #f0f8ff;}input.sk-toggleable__control:checked~div.sk-toggleable__content {max-height: 200px;max-width: 100%;overflow: auto;}div.sk-estimator input.sk-toggleable__control:checked~label.sk-toggleable__label {background-color: #d4ebff;}div.sk-label input.sk-toggleable__control:checked~label.sk-toggleable__label {background-color: #d4ebff;}input.sk-hidden--visually {border: 0;clip: rect(1px 1px 1px 1px);clip: rect(1px, 1px, 1px, 1px);height: 1px;margin: -1px;overflow: hidden;padding: 0;position: absolute;width: 1px;}div.sk-estimator {font-family: monospace;background-color: #f0f8ff;margin: 0.25em 0.25em;border: 1px dotted black;border-radius: 0.25em;box-sizing: border-box;}div.sk-estimator:hover {background-color: #d4ebff;}div.sk-parallel-item::after {content: \"\";width: 100%;border-bottom: 1px solid gray;flex-grow: 1;}div.sk-label:hover label.sk-toggleable__label {background-color: #d4ebff;}div.sk-serial::before {content: \"\";position: absolute;border-left: 1px solid gray;box-sizing: border-box;top: 2em;bottom: 0;left: 50%;}div.sk-serial {display: flex;flex-direction: column;align-items: center;background-color: white;}div.sk-item {z-index: 1;}div.sk-parallel {display: flex;align-items: stretch;justify-content: center;background-color: white;}div.sk-parallel-item {display: flex;flex-direction: column;position: relative;background-color: white;}div.sk-parallel-item:first-child::after {align-self: flex-end;width: 50%;}div.sk-parallel-item:last-child::after {align-self: flex-start;width: 50%;}div.sk-parallel-item:only-child::after {width: 0;}div.sk-dashed-wrapped {border: 1px dashed gray;margin: 0.2em;box-sizing: border-box;padding-bottom: 0.1em;background-color: white;position: relative;}div.sk-label label {font-family: monospace;font-weight: bold;background-color: white;display: inline-block;line-height: 1.2em;}div.sk-label-container {position: relative;z-index: 2;text-align: center;}div.sk-container {display: inline-block;position: relative;}</style><div class=\"sk-top-container\"><div class=\"sk-container\"><div class=\"sk-item sk-dashed-wrapped\"><div class=\"sk-label-container\"><div class=\"sk-label sk-toggleable\"><input class=\"sk-toggleable__control sk-hidden--visually\" id=\"a504c695-29ea-460c-aa68-7b4179deb8dc\" type=\"checkbox\" ><label class=\"sk-toggleable__label\" for=\"a504c695-29ea-460c-aa68-7b4179deb8dc\">Pipeline</label><div class=\"sk-toggleable__content\"><pre>Pipeline(steps=[('preprocessing',\n",
       "                 ColumnTransformer(remainder='passthrough',\n",
       "                                   transformers=[('standard_transformer',\n",
       "                                                  Pipeline(steps=[('Standard_Scaler',\n",
       "                                                                   StandardScaler())]),\n",
       "                                                  ['loudness', 'tempo']),\n",
       "                                                 ('robust_transformer',\n",
       "                                                  Pipeline(steps=[('Robust_Scaler',\n",
       "                                                                   RobustScaler())]),\n",
       "                                                  ['duration_ms',\n",
       "                                                   'release_date',\n",
       "                                                   'artist_popularity']),\n",
       "                                                 ('cat_transformer',\n",
       "                                                  OneHotEncoder(handle_unknown='ignore',\n",
       "                                                                sparse=False),\n",
       "                                                  ['key'])])),\n",
       "                ('linear_regression', Ridge())])</pre></div></div></div><div class=\"sk-serial\"><div class=\"sk-item sk-dashed-wrapped\"><div class=\"sk-label-container\"><div class=\"sk-label sk-toggleable\"><input class=\"sk-toggleable__control sk-hidden--visually\" id=\"7148e03c-90c7-4c9c-bd93-a08ac9d84060\" type=\"checkbox\" ><label class=\"sk-toggleable__label\" for=\"7148e03c-90c7-4c9c-bd93-a08ac9d84060\">preprocessing: ColumnTransformer</label><div class=\"sk-toggleable__content\"><pre>ColumnTransformer(remainder='passthrough',\n",
       "                  transformers=[('standard_transformer',\n",
       "                                 Pipeline(steps=[('Standard_Scaler',\n",
       "                                                  StandardScaler())]),\n",
       "                                 ['loudness', 'tempo']),\n",
       "                                ('robust_transformer',\n",
       "                                 Pipeline(steps=[('Robust_Scaler',\n",
       "                                                  RobustScaler())]),\n",
       "                                 ['duration_ms', 'release_date',\n",
       "                                  'artist_popularity']),\n",
       "                                ('cat_transformer',\n",
       "                                 OneHotEncoder(handle_unknown='ignore',\n",
       "                                               sparse=False),\n",
       "                                 ['key'])])</pre></div></div></div><div class=\"sk-parallel\"><div class=\"sk-parallel-item\"><div class=\"sk-item\"><div class=\"sk-label-container\"><div class=\"sk-label sk-toggleable\"><input class=\"sk-toggleable__control sk-hidden--visually\" id=\"c1052051-ec11-4601-8208-2f05942d1940\" type=\"checkbox\" ><label class=\"sk-toggleable__label\" for=\"c1052051-ec11-4601-8208-2f05942d1940\">standard_transformer</label><div class=\"sk-toggleable__content\"><pre>['loudness', 'tempo']</pre></div></div></div><div class=\"sk-serial\"><div class=\"sk-item\"><div class=\"sk-serial\"><div class=\"sk-item\"><div class=\"sk-estimator sk-toggleable\"><input class=\"sk-toggleable__control sk-hidden--visually\" id=\"4fb4ddef-01ea-4ea0-a0df-790be1a612f0\" type=\"checkbox\" ><label class=\"sk-toggleable__label\" for=\"4fb4ddef-01ea-4ea0-a0df-790be1a612f0\">StandardScaler</label><div class=\"sk-toggleable__content\"><pre>StandardScaler()</pre></div></div></div></div></div></div></div></div><div class=\"sk-parallel-item\"><div class=\"sk-item\"><div class=\"sk-label-container\"><div class=\"sk-label sk-toggleable\"><input class=\"sk-toggleable__control sk-hidden--visually\" id=\"eb4d2910-7fa7-4de0-b502-66b45a3c290c\" type=\"checkbox\" ><label class=\"sk-toggleable__label\" for=\"eb4d2910-7fa7-4de0-b502-66b45a3c290c\">robust_transformer</label><div class=\"sk-toggleable__content\"><pre>['duration_ms', 'release_date', 'artist_popularity']</pre></div></div></div><div class=\"sk-serial\"><div class=\"sk-item\"><div class=\"sk-serial\"><div class=\"sk-item\"><div class=\"sk-estimator sk-toggleable\"><input class=\"sk-toggleable__control sk-hidden--visually\" id=\"2814f299-a80a-4edc-bd77-5b84964110d2\" type=\"checkbox\" ><label class=\"sk-toggleable__label\" for=\"2814f299-a80a-4edc-bd77-5b84964110d2\">RobustScaler</label><div class=\"sk-toggleable__content\"><pre>RobustScaler()</pre></div></div></div></div></div></div></div></div><div class=\"sk-parallel-item\"><div class=\"sk-item\"><div class=\"sk-label-container\"><div class=\"sk-label sk-toggleable\"><input class=\"sk-toggleable__control sk-hidden--visually\" id=\"f85d701d-1865-4bf9-aee6-7da6ba8e3ec0\" type=\"checkbox\" ><label class=\"sk-toggleable__label\" for=\"f85d701d-1865-4bf9-aee6-7da6ba8e3ec0\">cat_transformer</label><div class=\"sk-toggleable__content\"><pre>['key']</pre></div></div></div><div class=\"sk-serial\"><div class=\"sk-item\"><div class=\"sk-estimator sk-toggleable\"><input class=\"sk-toggleable__control sk-hidden--visually\" id=\"65bdb968-df51-4171-a1ce-6bc748ad4756\" type=\"checkbox\" ><label class=\"sk-toggleable__label\" for=\"65bdb968-df51-4171-a1ce-6bc748ad4756\">OneHotEncoder</label><div class=\"sk-toggleable__content\"><pre>OneHotEncoder(handle_unknown='ignore', sparse=False)</pre></div></div></div></div></div></div><div class=\"sk-parallel-item\"><div class=\"sk-item\"><div class=\"sk-label-container\"><div class=\"sk-label sk-toggleable\"><input class=\"sk-toggleable__control sk-hidden--visually\" id=\"9fa26348-ea80-4547-9eaf-99130774d49b\" type=\"checkbox\" ><label class=\"sk-toggleable__label\" for=\"9fa26348-ea80-4547-9eaf-99130774d49b\">remainder</label><div class=\"sk-toggleable__content\"><pre>['acousticness', 'danceability', 'energy', 'explicit', 'instrumentalness', 'liveness', 'mode', 'speechiness', 'valence']</pre></div></div></div><div class=\"sk-serial\"><div class=\"sk-item\"><div class=\"sk-estimator sk-toggleable\"><input class=\"sk-toggleable__control sk-hidden--visually\" id=\"26e2964e-8f7a-4972-a86d-4df1377fe874\" type=\"checkbox\" ><label class=\"sk-toggleable__label\" for=\"26e2964e-8f7a-4972-a86d-4df1377fe874\">passthrough</label><div class=\"sk-toggleable__content\"><pre>passthrough</pre></div></div></div></div></div></div></div></div><div class=\"sk-item\"><div class=\"sk-estimator sk-toggleable\"><input class=\"sk-toggleable__control sk-hidden--visually\" id=\"3f8bc182-a2f7-4c51-8e93-f19df7e033f0\" type=\"checkbox\" ><label class=\"sk-toggleable__label\" for=\"3f8bc182-a2f7-4c51-8e93-f19df7e033f0\">Ridge</label><div class=\"sk-toggleable__content\"><pre>Ridge()</pre></div></div></div></div></div></div></div>"
      ],
      "text/plain": [
       "Pipeline(steps=[('preprocessing',\n",
       "                 ColumnTransformer(remainder='passthrough',\n",
       "                                   transformers=[('standard_transformer',\n",
       "                                                  Pipeline(steps=[('Standard_Scaler',\n",
       "                                                                   StandardScaler())]),\n",
       "                                                  ['loudness', 'tempo']),\n",
       "                                                 ('robust_transformer',\n",
       "                                                  Pipeline(steps=[('Robust_Scaler',\n",
       "                                                                   RobustScaler())]),\n",
       "                                                  ['duration_ms',\n",
       "                                                   'release_date',\n",
       "                                                   'artist_popularity']),\n",
       "                                                 ('cat_transformer',\n",
       "                                                  OneHotEncoder(handle_unknown='ignore',\n",
       "                                                                sparse=False),\n",
       "                                                  ['key'])])),\n",
       "                ('linear_regression', Ridge())])"
      ]
     },
     "execution_count": 352,
     "metadata": {},
     "output_type": "execute_result"
    }
   ],
   "source": [
    "# Combine preprocessor and linear model in pipeline\n",
    "pipe_linear = Pipeline([\n",
    "    ('preprocessing', preproc),\n",
    "    ('linear_regression', Ridge())])\n",
    "pipe_linear"
   ]
  },
  {
   "cell_type": "code",
   "execution_count": 353,
   "metadata": {
    "scrolled": true
   },
   "outputs": [
    {
     "data": {
      "text/plain": [
       "{'memory': None,\n",
       " 'steps': [('preprocessing',\n",
       "   ColumnTransformer(remainder='passthrough',\n",
       "                     transformers=[('standard_transformer',\n",
       "                                    Pipeline(steps=[('Standard_Scaler',\n",
       "                                                     StandardScaler())]),\n",
       "                                    ['loudness', 'tempo']),\n",
       "                                   ('robust_transformer',\n",
       "                                    Pipeline(steps=[('Robust_Scaler',\n",
       "                                                     RobustScaler())]),\n",
       "                                    ['duration_ms', 'release_date',\n",
       "                                     'artist_popularity']),\n",
       "                                   ('cat_transformer',\n",
       "                                    OneHotEncoder(handle_unknown='ignore',\n",
       "                                                  sparse=False),\n",
       "                                    ['key'])])),\n",
       "  ('linear_regression', Ridge())],\n",
       " 'verbose': False,\n",
       " 'preprocessing': ColumnTransformer(remainder='passthrough',\n",
       "                   transformers=[('standard_transformer',\n",
       "                                  Pipeline(steps=[('Standard_Scaler',\n",
       "                                                   StandardScaler())]),\n",
       "                                  ['loudness', 'tempo']),\n",
       "                                 ('robust_transformer',\n",
       "                                  Pipeline(steps=[('Robust_Scaler',\n",
       "                                                   RobustScaler())]),\n",
       "                                  ['duration_ms', 'release_date',\n",
       "                                   'artist_popularity']),\n",
       "                                 ('cat_transformer',\n",
       "                                  OneHotEncoder(handle_unknown='ignore',\n",
       "                                                sparse=False),\n",
       "                                  ['key'])]),\n",
       " 'linear_regression': Ridge(),\n",
       " 'preprocessing__n_jobs': None,\n",
       " 'preprocessing__remainder': 'passthrough',\n",
       " 'preprocessing__sparse_threshold': 0.3,\n",
       " 'preprocessing__transformer_weights': None,\n",
       " 'preprocessing__transformers': [('standard_transformer',\n",
       "   Pipeline(steps=[('Standard_Scaler', StandardScaler())]),\n",
       "   ['loudness', 'tempo']),\n",
       "  ('robust_transformer',\n",
       "   Pipeline(steps=[('Robust_Scaler', RobustScaler())]),\n",
       "   ['duration_ms', 'release_date', 'artist_popularity']),\n",
       "  ('cat_transformer',\n",
       "   OneHotEncoder(handle_unknown='ignore', sparse=False),\n",
       "   ['key'])],\n",
       " 'preprocessing__verbose': False,\n",
       " 'preprocessing__standard_transformer': Pipeline(steps=[('Standard_Scaler', StandardScaler())]),\n",
       " 'preprocessing__robust_transformer': Pipeline(steps=[('Robust_Scaler', RobustScaler())]),\n",
       " 'preprocessing__cat_transformer': OneHotEncoder(handle_unknown='ignore', sparse=False),\n",
       " 'preprocessing__standard_transformer__memory': None,\n",
       " 'preprocessing__standard_transformer__steps': [('Standard_Scaler',\n",
       "   StandardScaler())],\n",
       " 'preprocessing__standard_transformer__verbose': False,\n",
       " 'preprocessing__standard_transformer__Standard_Scaler': StandardScaler(),\n",
       " 'preprocessing__standard_transformer__Standard_Scaler__copy': True,\n",
       " 'preprocessing__standard_transformer__Standard_Scaler__with_mean': True,\n",
       " 'preprocessing__standard_transformer__Standard_Scaler__with_std': True,\n",
       " 'preprocessing__robust_transformer__memory': None,\n",
       " 'preprocessing__robust_transformer__steps': [('Robust_Scaler',\n",
       "   RobustScaler())],\n",
       " 'preprocessing__robust_transformer__verbose': False,\n",
       " 'preprocessing__robust_transformer__Robust_Scaler': RobustScaler(),\n",
       " 'preprocessing__robust_transformer__Robust_Scaler__copy': True,\n",
       " 'preprocessing__robust_transformer__Robust_Scaler__quantile_range': (25.0,\n",
       "  75.0),\n",
       " 'preprocessing__robust_transformer__Robust_Scaler__unit_variance': False,\n",
       " 'preprocessing__robust_transformer__Robust_Scaler__with_centering': True,\n",
       " 'preprocessing__robust_transformer__Robust_Scaler__with_scaling': True,\n",
       " 'preprocessing__cat_transformer__categories': 'auto',\n",
       " 'preprocessing__cat_transformer__drop': None,\n",
       " 'preprocessing__cat_transformer__dtype': numpy.float64,\n",
       " 'preprocessing__cat_transformer__handle_unknown': 'ignore',\n",
       " 'preprocessing__cat_transformer__sparse': False,\n",
       " 'linear_regression__alpha': 1.0,\n",
       " 'linear_regression__copy_X': True,\n",
       " 'linear_regression__fit_intercept': True,\n",
       " 'linear_regression__max_iter': None,\n",
       " 'linear_regression__normalize': False,\n",
       " 'linear_regression__random_state': None,\n",
       " 'linear_regression__solver': 'auto',\n",
       " 'linear_regression__tol': 0.001}"
      ]
     },
     "execution_count": 353,
     "metadata": {},
     "output_type": "execute_result"
    }
   ],
   "source": [
    "#### Get all pipe components parameters (to find hyper params names)\n",
    "pipe_linear.get_params()"
   ]
  },
  {
   "cell_type": "code",
   "execution_count": 333,
   "metadata": {},
   "outputs": [
    {
     "data": {
      "text/plain": [
       "-8.901311644438914"
      ]
     },
     "execution_count": 333,
     "metadata": {},
     "output_type": "execute_result"
    }
   ],
   "source": [
    "from sklearn.model_selection import GridSearchCV\n",
    "\n",
    "# Instanciate grid search\n",
    "grid_search = GridSearchCV(\n",
    "    pipe_linear, \n",
    "    param_grid={\n",
    "        # Access any component of the pipeline, as far back as you want\n",
    "        'linear_regression__alpha': [0.1, 0.5, 1,2,3,4, 5,6,7,8,9, 10],\n",
    "        'linear_regression__fit_intercept':[True,False],\n",
    "        'linear_regression__normalize':[True,False]},\n",
    "    \n",
    "    cv=5,\n",
    "    scoring=\"neg_root_mean_squared_error\")\n",
    "\n",
    "grid_search.fit(X_train, y_train)\n",
    "grid_search.best_params_\n",
    "grid_search.best_score_"
   ]
  },
  {
   "cell_type": "code",
   "execution_count": 334,
   "metadata": {
    "collapsed": true
   },
   "outputs": [
    {
     "data": {
      "text/plain": [
       "{'linear_regression__alpha': 5,\n",
       " 'linear_regression__fit_intercept': True,\n",
       " 'linear_regression__normalize': False}"
      ]
     },
     "execution_count": 334,
     "metadata": {},
     "output_type": "execute_result"
    }
   ],
   "source": [
    "grid_search.best_params_"
   ]
  },
  {
   "cell_type": "code",
   "execution_count": 335,
   "metadata": {},
   "outputs": [],
   "source": [
    "score_linear=grid_search.best_score_"
   ]
  },
  {
   "cell_type": "markdown",
   "metadata": {},
   "source": [
    "### Ensemble"
   ]
  },
  {
   "cell_type": "code",
   "execution_count": 338,
   "metadata": {},
   "outputs": [],
   "source": [
    "from sklearn.ensemble import RandomForestRegressor"
   ]
  },
  {
   "cell_type": "code",
   "execution_count": 343,
   "metadata": {
    "scrolled": true
   },
   "outputs": [
    {
     "data": {
      "text/html": [
       "<style>div.sk-top-container {color: black;background-color: white;}div.sk-toggleable {background-color: white;}label.sk-toggleable__label {cursor: pointer;display: block;width: 100%;margin-bottom: 0;padding: 0.2em 0.3em;box-sizing: border-box;text-align: center;}div.sk-toggleable__content {max-height: 0;max-width: 0;overflow: hidden;text-align: left;background-color: #f0f8ff;}div.sk-toggleable__content pre {margin: 0.2em;color: black;border-radius: 0.25em;background-color: #f0f8ff;}input.sk-toggleable__control:checked~div.sk-toggleable__content {max-height: 200px;max-width: 100%;overflow: auto;}div.sk-estimator input.sk-toggleable__control:checked~label.sk-toggleable__label {background-color: #d4ebff;}div.sk-label input.sk-toggleable__control:checked~label.sk-toggleable__label {background-color: #d4ebff;}input.sk-hidden--visually {border: 0;clip: rect(1px 1px 1px 1px);clip: rect(1px, 1px, 1px, 1px);height: 1px;margin: -1px;overflow: hidden;padding: 0;position: absolute;width: 1px;}div.sk-estimator {font-family: monospace;background-color: #f0f8ff;margin: 0.25em 0.25em;border: 1px dotted black;border-radius: 0.25em;box-sizing: border-box;}div.sk-estimator:hover {background-color: #d4ebff;}div.sk-parallel-item::after {content: \"\";width: 100%;border-bottom: 1px solid gray;flex-grow: 1;}div.sk-label:hover label.sk-toggleable__label {background-color: #d4ebff;}div.sk-serial::before {content: \"\";position: absolute;border-left: 1px solid gray;box-sizing: border-box;top: 2em;bottom: 0;left: 50%;}div.sk-serial {display: flex;flex-direction: column;align-items: center;background-color: white;}div.sk-item {z-index: 1;}div.sk-parallel {display: flex;align-items: stretch;justify-content: center;background-color: white;}div.sk-parallel-item {display: flex;flex-direction: column;position: relative;background-color: white;}div.sk-parallel-item:first-child::after {align-self: flex-end;width: 50%;}div.sk-parallel-item:last-child::after {align-self: flex-start;width: 50%;}div.sk-parallel-item:only-child::after {width: 0;}div.sk-dashed-wrapped {border: 1px dashed gray;margin: 0.2em;box-sizing: border-box;padding-bottom: 0.1em;background-color: white;position: relative;}div.sk-label label {font-family: monospace;font-weight: bold;background-color: white;display: inline-block;line-height: 1.2em;}div.sk-label-container {position: relative;z-index: 2;text-align: center;}div.sk-container {display: inline-block;position: relative;}</style><div class=\"sk-top-container\"><div class=\"sk-container\"><div class=\"sk-item sk-dashed-wrapped\"><div class=\"sk-label-container\"><div class=\"sk-label sk-toggleable\"><input class=\"sk-toggleable__control sk-hidden--visually\" id=\"15c04506-a715-4b3f-95a8-5e1ea3fffcef\" type=\"checkbox\" ><label class=\"sk-toggleable__label\" for=\"15c04506-a715-4b3f-95a8-5e1ea3fffcef\">Pipeline</label><div class=\"sk-toggleable__content\"><pre>Pipeline(steps=[('preprocessing',\n",
       "                 ColumnTransformer(remainder='passthrough',\n",
       "                                   transformers=[('standard_transformer',\n",
       "                                                  Pipeline(steps=[('Standard_Scaler',\n",
       "                                                                   StandardScaler())]),\n",
       "                                                  ['loudness', 'tempo']),\n",
       "                                                 ('robust_transformer',\n",
       "                                                  Pipeline(steps=[('Robust_Scaler',\n",
       "                                                                   RobustScaler())]),\n",
       "                                                  ['duration_ms',\n",
       "                                                   'release_date',\n",
       "                                                   'artist_popularity']),\n",
       "                                                 ('cat_transformer',\n",
       "                                                  OneHotEncoder(handle_unknown='ignore',\n",
       "                                                                sparse=False),\n",
       "                                                  ['key'])])),\n",
       "                ('ensemble_regression', RandomForestRegressor())])</pre></div></div></div><div class=\"sk-serial\"><div class=\"sk-item sk-dashed-wrapped\"><div class=\"sk-label-container\"><div class=\"sk-label sk-toggleable\"><input class=\"sk-toggleable__control sk-hidden--visually\" id=\"1e668569-6999-4966-88d9-f3dffe640567\" type=\"checkbox\" ><label class=\"sk-toggleable__label\" for=\"1e668569-6999-4966-88d9-f3dffe640567\">preprocessing: ColumnTransformer</label><div class=\"sk-toggleable__content\"><pre>ColumnTransformer(remainder='passthrough',\n",
       "                  transformers=[('standard_transformer',\n",
       "                                 Pipeline(steps=[('Standard_Scaler',\n",
       "                                                  StandardScaler())]),\n",
       "                                 ['loudness', 'tempo']),\n",
       "                                ('robust_transformer',\n",
       "                                 Pipeline(steps=[('Robust_Scaler',\n",
       "                                                  RobustScaler())]),\n",
       "                                 ['duration_ms', 'release_date',\n",
       "                                  'artist_popularity']),\n",
       "                                ('cat_transformer',\n",
       "                                 OneHotEncoder(handle_unknown='ignore',\n",
       "                                               sparse=False),\n",
       "                                 ['key'])])</pre></div></div></div><div class=\"sk-parallel\"><div class=\"sk-parallel-item\"><div class=\"sk-item\"><div class=\"sk-label-container\"><div class=\"sk-label sk-toggleable\"><input class=\"sk-toggleable__control sk-hidden--visually\" id=\"d9de78a0-0e95-4102-a253-caf63fce8503\" type=\"checkbox\" ><label class=\"sk-toggleable__label\" for=\"d9de78a0-0e95-4102-a253-caf63fce8503\">standard_transformer</label><div class=\"sk-toggleable__content\"><pre>['loudness', 'tempo']</pre></div></div></div><div class=\"sk-serial\"><div class=\"sk-item\"><div class=\"sk-serial\"><div class=\"sk-item\"><div class=\"sk-estimator sk-toggleable\"><input class=\"sk-toggleable__control sk-hidden--visually\" id=\"ad646ae2-faa7-49e9-bed0-3b9199a03b18\" type=\"checkbox\" ><label class=\"sk-toggleable__label\" for=\"ad646ae2-faa7-49e9-bed0-3b9199a03b18\">StandardScaler</label><div class=\"sk-toggleable__content\"><pre>StandardScaler()</pre></div></div></div></div></div></div></div></div><div class=\"sk-parallel-item\"><div class=\"sk-item\"><div class=\"sk-label-container\"><div class=\"sk-label sk-toggleable\"><input class=\"sk-toggleable__control sk-hidden--visually\" id=\"20723aaa-4528-4e23-a85c-c94fd6a47ae3\" type=\"checkbox\" ><label class=\"sk-toggleable__label\" for=\"20723aaa-4528-4e23-a85c-c94fd6a47ae3\">robust_transformer</label><div class=\"sk-toggleable__content\"><pre>['duration_ms', 'release_date', 'artist_popularity']</pre></div></div></div><div class=\"sk-serial\"><div class=\"sk-item\"><div class=\"sk-serial\"><div class=\"sk-item\"><div class=\"sk-estimator sk-toggleable\"><input class=\"sk-toggleable__control sk-hidden--visually\" id=\"4487fa1d-7a4d-41ea-a882-36aa24e82b47\" type=\"checkbox\" ><label class=\"sk-toggleable__label\" for=\"4487fa1d-7a4d-41ea-a882-36aa24e82b47\">RobustScaler</label><div class=\"sk-toggleable__content\"><pre>RobustScaler()</pre></div></div></div></div></div></div></div></div><div class=\"sk-parallel-item\"><div class=\"sk-item\"><div class=\"sk-label-container\"><div class=\"sk-label sk-toggleable\"><input class=\"sk-toggleable__control sk-hidden--visually\" id=\"b6ec03b8-4692-44f4-90f9-b0151a86f510\" type=\"checkbox\" ><label class=\"sk-toggleable__label\" for=\"b6ec03b8-4692-44f4-90f9-b0151a86f510\">cat_transformer</label><div class=\"sk-toggleable__content\"><pre>['key']</pre></div></div></div><div class=\"sk-serial\"><div class=\"sk-item\"><div class=\"sk-estimator sk-toggleable\"><input class=\"sk-toggleable__control sk-hidden--visually\" id=\"f31c082e-2247-418c-b09e-b8cfd968f5c4\" type=\"checkbox\" ><label class=\"sk-toggleable__label\" for=\"f31c082e-2247-418c-b09e-b8cfd968f5c4\">OneHotEncoder</label><div class=\"sk-toggleable__content\"><pre>OneHotEncoder(handle_unknown='ignore', sparse=False)</pre></div></div></div></div></div></div><div class=\"sk-parallel-item\"><div class=\"sk-item\"><div class=\"sk-label-container\"><div class=\"sk-label sk-toggleable\"><input class=\"sk-toggleable__control sk-hidden--visually\" id=\"cded733b-1b98-4fa8-8df3-3aa9424f3294\" type=\"checkbox\" ><label class=\"sk-toggleable__label\" for=\"cded733b-1b98-4fa8-8df3-3aa9424f3294\">remainder</label><div class=\"sk-toggleable__content\"><pre>['acousticness', 'danceability', 'energy', 'explicit', 'instrumentalness', 'liveness', 'mode', 'speechiness', 'valence']</pre></div></div></div><div class=\"sk-serial\"><div class=\"sk-item\"><div class=\"sk-estimator sk-toggleable\"><input class=\"sk-toggleable__control sk-hidden--visually\" id=\"0151fd8b-0762-44eb-836c-7d2982769a76\" type=\"checkbox\" ><label class=\"sk-toggleable__label\" for=\"0151fd8b-0762-44eb-836c-7d2982769a76\">passthrough</label><div class=\"sk-toggleable__content\"><pre>passthrough</pre></div></div></div></div></div></div></div></div><div class=\"sk-item\"><div class=\"sk-estimator sk-toggleable\"><input class=\"sk-toggleable__control sk-hidden--visually\" id=\"13bf2b53-22b3-48c8-9f68-9804b9c584ae\" type=\"checkbox\" ><label class=\"sk-toggleable__label\" for=\"13bf2b53-22b3-48c8-9f68-9804b9c584ae\">RandomForestRegressor</label><div class=\"sk-toggleable__content\"><pre>RandomForestRegressor()</pre></div></div></div></div></div></div></div>"
      ],
      "text/plain": [
       "Pipeline(steps=[('preprocessing',\n",
       "                 ColumnTransformer(remainder='passthrough',\n",
       "                                   transformers=[('standard_transformer',\n",
       "                                                  Pipeline(steps=[('Standard_Scaler',\n",
       "                                                                   StandardScaler())]),\n",
       "                                                  ['loudness', 'tempo']),\n",
       "                                                 ('robust_transformer',\n",
       "                                                  Pipeline(steps=[('Robust_Scaler',\n",
       "                                                                   RobustScaler())]),\n",
       "                                                  ['duration_ms',\n",
       "                                                   'release_date',\n",
       "                                                   'artist_popularity']),\n",
       "                                                 ('cat_transformer',\n",
       "                                                  OneHotEncoder(handle_unknown='ignore',\n",
       "                                                                sparse=False),\n",
       "                                                  ['key'])])),\n",
       "                ('ensemble_regression', RandomForestRegressor())])"
      ]
     },
     "execution_count": 343,
     "metadata": {},
     "output_type": "execute_result"
    }
   ],
   "source": [
    "# Combine preprocessor and linear model in pipeline\n",
    "pipe_ensemble = Pipeline([\n",
    "    ('preprocessing', preproc),\n",
    "    ('ensemble_regression', RandomForestRegressor())])\n",
    "pipe_ensemble"
   ]
  },
  {
   "cell_type": "code",
   "execution_count": 344,
   "metadata": {
    "scrolled": true
   },
   "outputs": [
    {
     "data": {
      "text/plain": [
       "{'memory': None,\n",
       " 'steps': [('preprocessing',\n",
       "   ColumnTransformer(remainder='passthrough',\n",
       "                     transformers=[('standard_transformer',\n",
       "                                    Pipeline(steps=[('Standard_Scaler',\n",
       "                                                     StandardScaler())]),\n",
       "                                    ['loudness', 'tempo']),\n",
       "                                   ('robust_transformer',\n",
       "                                    Pipeline(steps=[('Robust_Scaler',\n",
       "                                                     RobustScaler())]),\n",
       "                                    ['duration_ms', 'release_date',\n",
       "                                     'artist_popularity']),\n",
       "                                   ('cat_transformer',\n",
       "                                    OneHotEncoder(handle_unknown='ignore',\n",
       "                                                  sparse=False),\n",
       "                                    ['key'])])),\n",
       "  ('ensemble_regression', RandomForestRegressor())],\n",
       " 'verbose': False,\n",
       " 'preprocessing': ColumnTransformer(remainder='passthrough',\n",
       "                   transformers=[('standard_transformer',\n",
       "                                  Pipeline(steps=[('Standard_Scaler',\n",
       "                                                   StandardScaler())]),\n",
       "                                  ['loudness', 'tempo']),\n",
       "                                 ('robust_transformer',\n",
       "                                  Pipeline(steps=[('Robust_Scaler',\n",
       "                                                   RobustScaler())]),\n",
       "                                  ['duration_ms', 'release_date',\n",
       "                                   'artist_popularity']),\n",
       "                                 ('cat_transformer',\n",
       "                                  OneHotEncoder(handle_unknown='ignore',\n",
       "                                                sparse=False),\n",
       "                                  ['key'])]),\n",
       " 'ensemble_regression': RandomForestRegressor(),\n",
       " 'preprocessing__n_jobs': None,\n",
       " 'preprocessing__remainder': 'passthrough',\n",
       " 'preprocessing__sparse_threshold': 0.3,\n",
       " 'preprocessing__transformer_weights': None,\n",
       " 'preprocessing__transformers': [('standard_transformer',\n",
       "   Pipeline(steps=[('Standard_Scaler', StandardScaler())]),\n",
       "   ['loudness', 'tempo']),\n",
       "  ('robust_transformer',\n",
       "   Pipeline(steps=[('Robust_Scaler', RobustScaler())]),\n",
       "   ['duration_ms', 'release_date', 'artist_popularity']),\n",
       "  ('cat_transformer',\n",
       "   OneHotEncoder(handle_unknown='ignore', sparse=False),\n",
       "   ['key'])],\n",
       " 'preprocessing__verbose': False,\n",
       " 'preprocessing__standard_transformer': Pipeline(steps=[('Standard_Scaler', StandardScaler())]),\n",
       " 'preprocessing__robust_transformer': Pipeline(steps=[('Robust_Scaler', RobustScaler())]),\n",
       " 'preprocessing__cat_transformer': OneHotEncoder(handle_unknown='ignore', sparse=False),\n",
       " 'preprocessing__standard_transformer__memory': None,\n",
       " 'preprocessing__standard_transformer__steps': [('Standard_Scaler',\n",
       "   StandardScaler())],\n",
       " 'preprocessing__standard_transformer__verbose': False,\n",
       " 'preprocessing__standard_transformer__Standard_Scaler': StandardScaler(),\n",
       " 'preprocessing__standard_transformer__Standard_Scaler__copy': True,\n",
       " 'preprocessing__standard_transformer__Standard_Scaler__with_mean': True,\n",
       " 'preprocessing__standard_transformer__Standard_Scaler__with_std': True,\n",
       " 'preprocessing__robust_transformer__memory': None,\n",
       " 'preprocessing__robust_transformer__steps': [('Robust_Scaler',\n",
       "   RobustScaler())],\n",
       " 'preprocessing__robust_transformer__verbose': False,\n",
       " 'preprocessing__robust_transformer__Robust_Scaler': RobustScaler(),\n",
       " 'preprocessing__robust_transformer__Robust_Scaler__copy': True,\n",
       " 'preprocessing__robust_transformer__Robust_Scaler__quantile_range': (25.0,\n",
       "  75.0),\n",
       " 'preprocessing__robust_transformer__Robust_Scaler__unit_variance': False,\n",
       " 'preprocessing__robust_transformer__Robust_Scaler__with_centering': True,\n",
       " 'preprocessing__robust_transformer__Robust_Scaler__with_scaling': True,\n",
       " 'preprocessing__cat_transformer__categories': 'auto',\n",
       " 'preprocessing__cat_transformer__drop': None,\n",
       " 'preprocessing__cat_transformer__dtype': numpy.float64,\n",
       " 'preprocessing__cat_transformer__handle_unknown': 'ignore',\n",
       " 'preprocessing__cat_transformer__sparse': False,\n",
       " 'ensemble_regression__bootstrap': True,\n",
       " 'ensemble_regression__ccp_alpha': 0.0,\n",
       " 'ensemble_regression__criterion': 'mse',\n",
       " 'ensemble_regression__max_depth': None,\n",
       " 'ensemble_regression__max_features': 'auto',\n",
       " 'ensemble_regression__max_leaf_nodes': None,\n",
       " 'ensemble_regression__max_samples': None,\n",
       " 'ensemble_regression__min_impurity_decrease': 0.0,\n",
       " 'ensemble_regression__min_impurity_split': None,\n",
       " 'ensemble_regression__min_samples_leaf': 1,\n",
       " 'ensemble_regression__min_samples_split': 2,\n",
       " 'ensemble_regression__min_weight_fraction_leaf': 0.0,\n",
       " 'ensemble_regression__n_estimators': 100,\n",
       " 'ensemble_regression__n_jobs': None,\n",
       " 'ensemble_regression__oob_score': False,\n",
       " 'ensemble_regression__random_state': None,\n",
       " 'ensemble_regression__verbose': 0,\n",
       " 'ensemble_regression__warm_start': False}"
      ]
     },
     "execution_count": 344,
     "metadata": {},
     "output_type": "execute_result"
    }
   ],
   "source": [
    "#### Get all pipe components parameters (to find hyper params names)\n",
    "pipe_ensemble.get_params()"
   ]
  },
  {
   "cell_type": "code",
   "execution_count": 348,
   "metadata": {},
   "outputs": [
    {
     "data": {
      "text/plain": [
       "-8.109271826971469"
      ]
     },
     "execution_count": 348,
     "metadata": {},
     "output_type": "execute_result"
    }
   ],
   "source": [
    "from sklearn.model_selection import GridSearchCV\n",
    "\n",
    "# Instanciate grid search\n",
    "grid_search = GridSearchCV(\n",
    "    pipe_ensemble, \n",
    "    param_grid={\n",
    "        # Access any component of the pipeline, as far back as you want\n",
    "        'ensemble_regression__n_estimators': [10,30,100],\n",
    "        'ensemble_regression__min_samples_split':[2]},\n",
    "    \n",
    "    cv=5,\n",
    "    scoring=\"neg_root_mean_squared_error\")\n",
    "\n",
    "grid_search.fit(X_train, y_train)\n",
    "grid_search.best_params_\n",
    "grid_search.best_score_"
   ]
  },
  {
   "cell_type": "code",
   "execution_count": 350,
   "metadata": {},
   "outputs": [],
   "source": [
    "score_ensemble=grid_search.best_score_"
   ]
  },
  {
   "cell_type": "markdown",
   "metadata": {},
   "source": [
    "🧪 **Run the following cells to save your results**"
   ]
  },
  {
   "cell_type": "code",
   "execution_count": 354,
   "metadata": {},
   "outputs": [
    {
     "data": {
      "text/html": [
       "<style>div.sk-top-container {color: black;background-color: white;}div.sk-toggleable {background-color: white;}label.sk-toggleable__label {cursor: pointer;display: block;width: 100%;margin-bottom: 0;padding: 0.2em 0.3em;box-sizing: border-box;text-align: center;}div.sk-toggleable__content {max-height: 0;max-width: 0;overflow: hidden;text-align: left;background-color: #f0f8ff;}div.sk-toggleable__content pre {margin: 0.2em;color: black;border-radius: 0.25em;background-color: #f0f8ff;}input.sk-toggleable__control:checked~div.sk-toggleable__content {max-height: 200px;max-width: 100%;overflow: auto;}div.sk-estimator input.sk-toggleable__control:checked~label.sk-toggleable__label {background-color: #d4ebff;}div.sk-label input.sk-toggleable__control:checked~label.sk-toggleable__label {background-color: #d4ebff;}input.sk-hidden--visually {border: 0;clip: rect(1px 1px 1px 1px);clip: rect(1px, 1px, 1px, 1px);height: 1px;margin: -1px;overflow: hidden;padding: 0;position: absolute;width: 1px;}div.sk-estimator {font-family: monospace;background-color: #f0f8ff;margin: 0.25em 0.25em;border: 1px dotted black;border-radius: 0.25em;box-sizing: border-box;}div.sk-estimator:hover {background-color: #d4ebff;}div.sk-parallel-item::after {content: \"\";width: 100%;border-bottom: 1px solid gray;flex-grow: 1;}div.sk-label:hover label.sk-toggleable__label {background-color: #d4ebff;}div.sk-serial::before {content: \"\";position: absolute;border-left: 1px solid gray;box-sizing: border-box;top: 2em;bottom: 0;left: 50%;}div.sk-serial {display: flex;flex-direction: column;align-items: center;background-color: white;}div.sk-item {z-index: 1;}div.sk-parallel {display: flex;align-items: stretch;justify-content: center;background-color: white;}div.sk-parallel-item {display: flex;flex-direction: column;position: relative;background-color: white;}div.sk-parallel-item:first-child::after {align-self: flex-end;width: 50%;}div.sk-parallel-item:last-child::after {align-self: flex-start;width: 50%;}div.sk-parallel-item:only-child::after {width: 0;}div.sk-dashed-wrapped {border: 1px dashed gray;margin: 0.2em;box-sizing: border-box;padding-bottom: 0.1em;background-color: white;position: relative;}div.sk-label label {font-family: monospace;font-weight: bold;background-color: white;display: inline-block;line-height: 1.2em;}div.sk-label-container {position: relative;z-index: 2;text-align: center;}div.sk-container {display: inline-block;position: relative;}</style><div class=\"sk-top-container\"><div class=\"sk-container\"><div class=\"sk-item sk-dashed-wrapped\"><div class=\"sk-label-container\"><div class=\"sk-label sk-toggleable\"><input class=\"sk-toggleable__control sk-hidden--visually\" id=\"e26ba8a0-5804-47e5-908b-8c85b94cb5a6\" type=\"checkbox\" ><label class=\"sk-toggleable__label\" for=\"e26ba8a0-5804-47e5-908b-8c85b94cb5a6\">Pipeline</label><div class=\"sk-toggleable__content\"><pre>Pipeline(steps=[('preprocessing',\n",
       "                 ColumnTransformer(remainder='passthrough',\n",
       "                                   transformers=[('standard_transformer',\n",
       "                                                  Pipeline(steps=[('Standard_Scaler',\n",
       "                                                                   StandardScaler())]),\n",
       "                                                  ['loudness', 'tempo']),\n",
       "                                                 ('robust_transformer',\n",
       "                                                  Pipeline(steps=[('Robust_Scaler',\n",
       "                                                                   RobustScaler())]),\n",
       "                                                  ['duration_ms',\n",
       "                                                   'release_date',\n",
       "                                                   'artist_popularity']),\n",
       "                                                 ('cat_transformer',\n",
       "                                                  OneHotEncoder(handle_unknown='ignore',\n",
       "                                                                sparse=False),\n",
       "                                                  ['key'])])),\n",
       "                ('linear_regression', Ridge())])</pre></div></div></div><div class=\"sk-serial\"><div class=\"sk-item sk-dashed-wrapped\"><div class=\"sk-label-container\"><div class=\"sk-label sk-toggleable\"><input class=\"sk-toggleable__control sk-hidden--visually\" id=\"caea0df2-f5d4-492e-877d-50a1b89d439e\" type=\"checkbox\" ><label class=\"sk-toggleable__label\" for=\"caea0df2-f5d4-492e-877d-50a1b89d439e\">preprocessing: ColumnTransformer</label><div class=\"sk-toggleable__content\"><pre>ColumnTransformer(remainder='passthrough',\n",
       "                  transformers=[('standard_transformer',\n",
       "                                 Pipeline(steps=[('Standard_Scaler',\n",
       "                                                  StandardScaler())]),\n",
       "                                 ['loudness', 'tempo']),\n",
       "                                ('robust_transformer',\n",
       "                                 Pipeline(steps=[('Robust_Scaler',\n",
       "                                                  RobustScaler())]),\n",
       "                                 ['duration_ms', 'release_date',\n",
       "                                  'artist_popularity']),\n",
       "                                ('cat_transformer',\n",
       "                                 OneHotEncoder(handle_unknown='ignore',\n",
       "                                               sparse=False),\n",
       "                                 ['key'])])</pre></div></div></div><div class=\"sk-parallel\"><div class=\"sk-parallel-item\"><div class=\"sk-item\"><div class=\"sk-label-container\"><div class=\"sk-label sk-toggleable\"><input class=\"sk-toggleable__control sk-hidden--visually\" id=\"f9a1271d-5658-4ba0-a167-35a2aaef79fe\" type=\"checkbox\" ><label class=\"sk-toggleable__label\" for=\"f9a1271d-5658-4ba0-a167-35a2aaef79fe\">standard_transformer</label><div class=\"sk-toggleable__content\"><pre>['loudness', 'tempo']</pre></div></div></div><div class=\"sk-serial\"><div class=\"sk-item\"><div class=\"sk-serial\"><div class=\"sk-item\"><div class=\"sk-estimator sk-toggleable\"><input class=\"sk-toggleable__control sk-hidden--visually\" id=\"eb56a696-f025-4bbf-bed7-115578ec6bf2\" type=\"checkbox\" ><label class=\"sk-toggleable__label\" for=\"eb56a696-f025-4bbf-bed7-115578ec6bf2\">StandardScaler</label><div class=\"sk-toggleable__content\"><pre>StandardScaler()</pre></div></div></div></div></div></div></div></div><div class=\"sk-parallel-item\"><div class=\"sk-item\"><div class=\"sk-label-container\"><div class=\"sk-label sk-toggleable\"><input class=\"sk-toggleable__control sk-hidden--visually\" id=\"c721af5f-8967-4503-8eb4-acb689e1af72\" type=\"checkbox\" ><label class=\"sk-toggleable__label\" for=\"c721af5f-8967-4503-8eb4-acb689e1af72\">robust_transformer</label><div class=\"sk-toggleable__content\"><pre>['duration_ms', 'release_date', 'artist_popularity']</pre></div></div></div><div class=\"sk-serial\"><div class=\"sk-item\"><div class=\"sk-serial\"><div class=\"sk-item\"><div class=\"sk-estimator sk-toggleable\"><input class=\"sk-toggleable__control sk-hidden--visually\" id=\"586cc60f-12e7-433a-ae5e-7f5f0af2d513\" type=\"checkbox\" ><label class=\"sk-toggleable__label\" for=\"586cc60f-12e7-433a-ae5e-7f5f0af2d513\">RobustScaler</label><div class=\"sk-toggleable__content\"><pre>RobustScaler()</pre></div></div></div></div></div></div></div></div><div class=\"sk-parallel-item\"><div class=\"sk-item\"><div class=\"sk-label-container\"><div class=\"sk-label sk-toggleable\"><input class=\"sk-toggleable__control sk-hidden--visually\" id=\"07e94d38-fe97-4576-99df-057e7aaf08a8\" type=\"checkbox\" ><label class=\"sk-toggleable__label\" for=\"07e94d38-fe97-4576-99df-057e7aaf08a8\">cat_transformer</label><div class=\"sk-toggleable__content\"><pre>['key']</pre></div></div></div><div class=\"sk-serial\"><div class=\"sk-item\"><div class=\"sk-estimator sk-toggleable\"><input class=\"sk-toggleable__control sk-hidden--visually\" id=\"cc49b477-ab34-4691-ac2f-c8ab01c692dd\" type=\"checkbox\" ><label class=\"sk-toggleable__label\" for=\"cc49b477-ab34-4691-ac2f-c8ab01c692dd\">OneHotEncoder</label><div class=\"sk-toggleable__content\"><pre>OneHotEncoder(handle_unknown='ignore', sparse=False)</pre></div></div></div></div></div></div><div class=\"sk-parallel-item\"><div class=\"sk-item\"><div class=\"sk-label-container\"><div class=\"sk-label sk-toggleable\"><input class=\"sk-toggleable__control sk-hidden--visually\" id=\"a6e2647a-9486-42cf-b2ab-500a72b86c98\" type=\"checkbox\" ><label class=\"sk-toggleable__label\" for=\"a6e2647a-9486-42cf-b2ab-500a72b86c98\">remainder</label><div class=\"sk-toggleable__content\"><pre>['acousticness', 'danceability', 'energy', 'explicit', 'instrumentalness', 'liveness', 'mode', 'speechiness', 'valence']</pre></div></div></div><div class=\"sk-serial\"><div class=\"sk-item\"><div class=\"sk-estimator sk-toggleable\"><input class=\"sk-toggleable__control sk-hidden--visually\" id=\"9d5b5484-97f6-4639-873e-4a6eff2ff71e\" type=\"checkbox\" ><label class=\"sk-toggleable__label\" for=\"9d5b5484-97f6-4639-873e-4a6eff2ff71e\">passthrough</label><div class=\"sk-toggleable__content\"><pre>passthrough</pre></div></div></div></div></div></div></div></div><div class=\"sk-item\"><div class=\"sk-estimator sk-toggleable\"><input class=\"sk-toggleable__control sk-hidden--visually\" id=\"091a1188-f6e4-4ae1-8ff7-28a55f830fed\" type=\"checkbox\" ><label class=\"sk-toggleable__label\" for=\"091a1188-f6e4-4ae1-8ff7-28a55f830fed\">Ridge</label><div class=\"sk-toggleable__content\"><pre>Ridge()</pre></div></div></div></div></div></div></div>"
      ],
      "text/plain": [
       "Pipeline(steps=[('preprocessing',\n",
       "                 ColumnTransformer(remainder='passthrough',\n",
       "                                   transformers=[('standard_transformer',\n",
       "                                                  Pipeline(steps=[('Standard_Scaler',\n",
       "                                                                   StandardScaler())]),\n",
       "                                                  ['loudness', 'tempo']),\n",
       "                                                 ('robust_transformer',\n",
       "                                                  Pipeline(steps=[('Robust_Scaler',\n",
       "                                                                   RobustScaler())]),\n",
       "                                                  ['duration_ms',\n",
       "                                                   'release_date',\n",
       "                                                   'artist_popularity']),\n",
       "                                                 ('cat_transformer',\n",
       "                                                  OneHotEncoder(handle_unknown='ignore',\n",
       "                                                                sparse=False),\n",
       "                                                  ['key'])])),\n",
       "                ('linear_regression', Ridge())])"
      ]
     },
     "execution_count": 354,
     "metadata": {},
     "output_type": "execute_result"
    }
   ],
   "source": [
    "# Print below your best pipe for correction purpose\n",
    "from sklearn import set_config; set_config(display='diagram')\n",
    "pipe_linear"
   ]
  },
  {
   "cell_type": "code",
   "execution_count": 355,
   "metadata": {},
   "outputs": [
    {
     "data": {
      "text/html": [
       "<style>div.sk-top-container {color: black;background-color: white;}div.sk-toggleable {background-color: white;}label.sk-toggleable__label {cursor: pointer;display: block;width: 100%;margin-bottom: 0;padding: 0.2em 0.3em;box-sizing: border-box;text-align: center;}div.sk-toggleable__content {max-height: 0;max-width: 0;overflow: hidden;text-align: left;background-color: #f0f8ff;}div.sk-toggleable__content pre {margin: 0.2em;color: black;border-radius: 0.25em;background-color: #f0f8ff;}input.sk-toggleable__control:checked~div.sk-toggleable__content {max-height: 200px;max-width: 100%;overflow: auto;}div.sk-estimator input.sk-toggleable__control:checked~label.sk-toggleable__label {background-color: #d4ebff;}div.sk-label input.sk-toggleable__control:checked~label.sk-toggleable__label {background-color: #d4ebff;}input.sk-hidden--visually {border: 0;clip: rect(1px 1px 1px 1px);clip: rect(1px, 1px, 1px, 1px);height: 1px;margin: -1px;overflow: hidden;padding: 0;position: absolute;width: 1px;}div.sk-estimator {font-family: monospace;background-color: #f0f8ff;margin: 0.25em 0.25em;border: 1px dotted black;border-radius: 0.25em;box-sizing: border-box;}div.sk-estimator:hover {background-color: #d4ebff;}div.sk-parallel-item::after {content: \"\";width: 100%;border-bottom: 1px solid gray;flex-grow: 1;}div.sk-label:hover label.sk-toggleable__label {background-color: #d4ebff;}div.sk-serial::before {content: \"\";position: absolute;border-left: 1px solid gray;box-sizing: border-box;top: 2em;bottom: 0;left: 50%;}div.sk-serial {display: flex;flex-direction: column;align-items: center;background-color: white;}div.sk-item {z-index: 1;}div.sk-parallel {display: flex;align-items: stretch;justify-content: center;background-color: white;}div.sk-parallel-item {display: flex;flex-direction: column;position: relative;background-color: white;}div.sk-parallel-item:first-child::after {align-self: flex-end;width: 50%;}div.sk-parallel-item:last-child::after {align-self: flex-start;width: 50%;}div.sk-parallel-item:only-child::after {width: 0;}div.sk-dashed-wrapped {border: 1px dashed gray;margin: 0.2em;box-sizing: border-box;padding-bottom: 0.1em;background-color: white;position: relative;}div.sk-label label {font-family: monospace;font-weight: bold;background-color: white;display: inline-block;line-height: 1.2em;}div.sk-label-container {position: relative;z-index: 2;text-align: center;}div.sk-container {display: inline-block;position: relative;}</style><div class=\"sk-top-container\"><div class=\"sk-container\"><div class=\"sk-item sk-dashed-wrapped\"><div class=\"sk-label-container\"><div class=\"sk-label sk-toggleable\"><input class=\"sk-toggleable__control sk-hidden--visually\" id=\"66365568-d0ff-4d69-bb0c-54fc484bcb27\" type=\"checkbox\" ><label class=\"sk-toggleable__label\" for=\"66365568-d0ff-4d69-bb0c-54fc484bcb27\">Pipeline</label><div class=\"sk-toggleable__content\"><pre>Pipeline(steps=[('preprocessing',\n",
       "                 ColumnTransformer(remainder='passthrough',\n",
       "                                   transformers=[('standard_transformer',\n",
       "                                                  Pipeline(steps=[('Standard_Scaler',\n",
       "                                                                   StandardScaler())]),\n",
       "                                                  ['loudness', 'tempo']),\n",
       "                                                 ('robust_transformer',\n",
       "                                                  Pipeline(steps=[('Robust_Scaler',\n",
       "                                                                   RobustScaler())]),\n",
       "                                                  ['duration_ms',\n",
       "                                                   'release_date',\n",
       "                                                   'artist_popularity']),\n",
       "                                                 ('cat_transformer',\n",
       "                                                  OneHotEncoder(handle_unknown='ignore',\n",
       "                                                                sparse=False),\n",
       "                                                  ['key'])])),\n",
       "                ('ensemble_regression', RandomForestRegressor())])</pre></div></div></div><div class=\"sk-serial\"><div class=\"sk-item sk-dashed-wrapped\"><div class=\"sk-label-container\"><div class=\"sk-label sk-toggleable\"><input class=\"sk-toggleable__control sk-hidden--visually\" id=\"c872f3e1-7e4f-42c0-a52e-0c336c4ee494\" type=\"checkbox\" ><label class=\"sk-toggleable__label\" for=\"c872f3e1-7e4f-42c0-a52e-0c336c4ee494\">preprocessing: ColumnTransformer</label><div class=\"sk-toggleable__content\"><pre>ColumnTransformer(remainder='passthrough',\n",
       "                  transformers=[('standard_transformer',\n",
       "                                 Pipeline(steps=[('Standard_Scaler',\n",
       "                                                  StandardScaler())]),\n",
       "                                 ['loudness', 'tempo']),\n",
       "                                ('robust_transformer',\n",
       "                                 Pipeline(steps=[('Robust_Scaler',\n",
       "                                                  RobustScaler())]),\n",
       "                                 ['duration_ms', 'release_date',\n",
       "                                  'artist_popularity']),\n",
       "                                ('cat_transformer',\n",
       "                                 OneHotEncoder(handle_unknown='ignore',\n",
       "                                               sparse=False),\n",
       "                                 ['key'])])</pre></div></div></div><div class=\"sk-parallel\"><div class=\"sk-parallel-item\"><div class=\"sk-item\"><div class=\"sk-label-container\"><div class=\"sk-label sk-toggleable\"><input class=\"sk-toggleable__control sk-hidden--visually\" id=\"160a7693-3693-48a9-879e-000cf20d6690\" type=\"checkbox\" ><label class=\"sk-toggleable__label\" for=\"160a7693-3693-48a9-879e-000cf20d6690\">standard_transformer</label><div class=\"sk-toggleable__content\"><pre>['loudness', 'tempo']</pre></div></div></div><div class=\"sk-serial\"><div class=\"sk-item\"><div class=\"sk-serial\"><div class=\"sk-item\"><div class=\"sk-estimator sk-toggleable\"><input class=\"sk-toggleable__control sk-hidden--visually\" id=\"5b703ab5-ff50-4dbb-8dbb-3c25bb77c1b0\" type=\"checkbox\" ><label class=\"sk-toggleable__label\" for=\"5b703ab5-ff50-4dbb-8dbb-3c25bb77c1b0\">StandardScaler</label><div class=\"sk-toggleable__content\"><pre>StandardScaler()</pre></div></div></div></div></div></div></div></div><div class=\"sk-parallel-item\"><div class=\"sk-item\"><div class=\"sk-label-container\"><div class=\"sk-label sk-toggleable\"><input class=\"sk-toggleable__control sk-hidden--visually\" id=\"aaac64e9-26d6-4ae9-9d00-e083b52a6dc3\" type=\"checkbox\" ><label class=\"sk-toggleable__label\" for=\"aaac64e9-26d6-4ae9-9d00-e083b52a6dc3\">robust_transformer</label><div class=\"sk-toggleable__content\"><pre>['duration_ms', 'release_date', 'artist_popularity']</pre></div></div></div><div class=\"sk-serial\"><div class=\"sk-item\"><div class=\"sk-serial\"><div class=\"sk-item\"><div class=\"sk-estimator sk-toggleable\"><input class=\"sk-toggleable__control sk-hidden--visually\" id=\"98b94fb7-ed4f-4334-bbbd-9af8feecbcb3\" type=\"checkbox\" ><label class=\"sk-toggleable__label\" for=\"98b94fb7-ed4f-4334-bbbd-9af8feecbcb3\">RobustScaler</label><div class=\"sk-toggleable__content\"><pre>RobustScaler()</pre></div></div></div></div></div></div></div></div><div class=\"sk-parallel-item\"><div class=\"sk-item\"><div class=\"sk-label-container\"><div class=\"sk-label sk-toggleable\"><input class=\"sk-toggleable__control sk-hidden--visually\" id=\"3839a1c2-4971-4c01-b4c9-bac43db9b4d5\" type=\"checkbox\" ><label class=\"sk-toggleable__label\" for=\"3839a1c2-4971-4c01-b4c9-bac43db9b4d5\">cat_transformer</label><div class=\"sk-toggleable__content\"><pre>['key']</pre></div></div></div><div class=\"sk-serial\"><div class=\"sk-item\"><div class=\"sk-estimator sk-toggleable\"><input class=\"sk-toggleable__control sk-hidden--visually\" id=\"c94ab14f-f242-4b65-a804-e7f646096105\" type=\"checkbox\" ><label class=\"sk-toggleable__label\" for=\"c94ab14f-f242-4b65-a804-e7f646096105\">OneHotEncoder</label><div class=\"sk-toggleable__content\"><pre>OneHotEncoder(handle_unknown='ignore', sparse=False)</pre></div></div></div></div></div></div><div class=\"sk-parallel-item\"><div class=\"sk-item\"><div class=\"sk-label-container\"><div class=\"sk-label sk-toggleable\"><input class=\"sk-toggleable__control sk-hidden--visually\" id=\"60f6dd15-b11d-4abb-b0b3-04dc1c63601c\" type=\"checkbox\" ><label class=\"sk-toggleable__label\" for=\"60f6dd15-b11d-4abb-b0b3-04dc1c63601c\">remainder</label><div class=\"sk-toggleable__content\"><pre>['acousticness', 'danceability', 'energy', 'explicit', 'instrumentalness', 'liveness', 'mode', 'speechiness', 'valence']</pre></div></div></div><div class=\"sk-serial\"><div class=\"sk-item\"><div class=\"sk-estimator sk-toggleable\"><input class=\"sk-toggleable__control sk-hidden--visually\" id=\"3b1722b9-ae2d-4829-a1b6-7482c8bfeadb\" type=\"checkbox\" ><label class=\"sk-toggleable__label\" for=\"3b1722b9-ae2d-4829-a1b6-7482c8bfeadb\">passthrough</label><div class=\"sk-toggleable__content\"><pre>passthrough</pre></div></div></div></div></div></div></div></div><div class=\"sk-item\"><div class=\"sk-estimator sk-toggleable\"><input class=\"sk-toggleable__control sk-hidden--visually\" id=\"3534efe7-1f20-4602-b950-65557b85671d\" type=\"checkbox\" ><label class=\"sk-toggleable__label\" for=\"3534efe7-1f20-4602-b950-65557b85671d\">RandomForestRegressor</label><div class=\"sk-toggleable__content\"><pre>RandomForestRegressor()</pre></div></div></div></div></div></div></div>"
      ],
      "text/plain": [
       "Pipeline(steps=[('preprocessing',\n",
       "                 ColumnTransformer(remainder='passthrough',\n",
       "                                   transformers=[('standard_transformer',\n",
       "                                                  Pipeline(steps=[('Standard_Scaler',\n",
       "                                                                   StandardScaler())]),\n",
       "                                                  ['loudness', 'tempo']),\n",
       "                                                 ('robust_transformer',\n",
       "                                                  Pipeline(steps=[('Robust_Scaler',\n",
       "                                                                   RobustScaler())]),\n",
       "                                                  ['duration_ms',\n",
       "                                                   'release_date',\n",
       "                                                   'artist_popularity']),\n",
       "                                                 ('cat_transformer',\n",
       "                                                  OneHotEncoder(handle_unknown='ignore',\n",
       "                                                                sparse=False),\n",
       "                                                  ['key'])])),\n",
       "                ('ensemble_regression', RandomForestRegressor())])"
      ]
     },
     "execution_count": 355,
     "metadata": {},
     "output_type": "execute_result"
    }
   ],
   "source": [
    "# Print below your best pipe for correction purpose\n",
    "pipe_ensemble"
   ]
  },
  {
   "cell_type": "code",
   "execution_count": 356,
   "metadata": {},
   "outputs": [],
   "source": [
    "from nbresult import ChallengeResult\n",
    "\n",
    "ChallengeResult(\"model_tuning\",\n",
    "    scoring = scoring,\n",
    "    score_linear=score_linear,\n",
    "    score_ensemble=score_ensemble).write()"
   ]
  },
  {
   "cell_type": "markdown",
   "metadata": {},
   "source": [
    "## API \n",
    "\n",
    "Time to put a pipeline in production!\n",
    "\n",
    "👉 Go to https://github.com/lewagon/data-certification-api and follow instructions\n",
    "\n",
    "**This final part is independent from the above notebook**"
   ]
  },
  {
   "cell_type": "code",
   "execution_count": null,
   "metadata": {},
   "outputs": [],
   "source": []
  }
 ],
 "metadata": {
  "hide_input": false,
  "kernelspec": {
   "display_name": "Python 3",
   "language": "python",
   "name": "python3"
  },
  "language_info": {
   "codemirror_mode": {
    "name": "ipython",
    "version": 3
   },
   "file_extension": ".py",
   "mimetype": "text/x-python",
   "name": "python",
   "nbconvert_exporter": "python",
   "pygments_lexer": "ipython3",
   "version": "3.8.6"
  },
  "toc": {
   "base_numbering": 1,
   "nav_menu": {},
   "number_sections": true,
   "sideBar": true,
   "skip_h1_title": true,
   "title_cell": "Table of Contents",
   "title_sidebar": "Contents",
   "toc_cell": false,
   "toc_position": {
    "height": "calc(100% - 180px)",
    "left": "10px",
    "top": "150px",
    "width": "242px"
   },
   "toc_section_display": true,
   "toc_window_display": true
  },
  "varInspector": {
   "cols": {
    "lenName": 16,
    "lenType": 16,
    "lenVar": 40
   },
   "kernels_config": {
    "python": {
     "delete_cmd_postfix": "",
     "delete_cmd_prefix": "del ",
     "library": "var_list.py",
     "varRefreshCmd": "print(var_dic_list())"
    },
    "r": {
     "delete_cmd_postfix": ") ",
     "delete_cmd_prefix": "rm(",
     "library": "var_list.r",
     "varRefreshCmd": "cat(var_dic_list()) "
    }
   },
   "types_to_exclude": [
    "module",
    "function",
    "builtin_function_or_method",
    "instance",
    "_Feature"
   ],
   "window_display": false
  }
 },
 "nbformat": 4,
 "nbformat_minor": 4
}
